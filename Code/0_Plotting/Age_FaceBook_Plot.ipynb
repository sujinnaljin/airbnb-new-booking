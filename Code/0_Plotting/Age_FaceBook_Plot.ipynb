{
  "nbformat": 4,
  "nbformat_minor": 0,
  "metadata": {
    "colab": {
      "name": "Xgboost_First",
      "version": "0.3.2",
      "provenance": [],
      "collapsed_sections": []
    },
    "kernelspec": {
      "name": "python3",
      "display_name": "Python 3"
    },
    "accelerator": "GPU"
  },
  "cells": [
    {
      "cell_type": "code",
      "metadata": {
        "id": "SElGeunNbuBP",
        "colab_type": "code",
        "outputId": "432d2602-88d5-4310-c25d-0a34d55a1008",
        "colab": {
          "base_uri": "https://localhost:8080/",
          "height": 125
        }
      },
      "source": [
        "from google.colab import drive\n",
        "drive.mount('/content/drive')"
      ],
      "execution_count": 1,
      "outputs": [
        {
          "output_type": "stream",
          "text": [
            "Go to this URL in a browser: https://accounts.google.com/o/oauth2/auth?client_id=947318989803-6bn6qk8qdgf4n4g3pfee6491hc0brc4i.apps.googleusercontent.com&redirect_uri=urn%3Aietf%3Awg%3Aoauth%3A2.0%3Aoob&scope=email%20https%3A%2F%2Fwww.googleapis.com%2Fauth%2Fdocs.test%20https%3A%2F%2Fwww.googleapis.com%2Fauth%2Fdrive%20https%3A%2F%2Fwww.googleapis.com%2Fauth%2Fdrive.photos.readonly%20https%3A%2F%2Fwww.googleapis.com%2Fauth%2Fpeopleapi.readonly&response_type=code\n",
            "\n",
            "Enter your authorization code:\n",
            "··········\n",
            "Mounted at /content/drive\n"
          ],
          "name": "stdout"
        }
      ]
    },
    {
      "cell_type": "code",
      "metadata": {
        "id": "o43eiSl8b0Nl",
        "colab_type": "code",
        "colab": {}
      },
      "source": [
        "import numpy as np # linear algebra\n",
        "import pandas as pd # data processing, CSV file I/O (e.g. pd.read_csv)\n",
        "from sklearn.preprocessing import LabelEncoder\n",
        "from sklearn.ensemble import RandomForestClassifier\n",
        "import random\n",
        "import matplotlib.pyplot as plt\n",
        "import seaborn as sns\n",
        "from sklearn.model_selection import GridSearchCV\n",
        "from sklearn.model_selection import RandomizedSearchCV\n",
        "%matplotlib inline\n",
        "from sklearn.decomposition import PCA\n",
        "from sklearn.preprocessing import LabelEncoder\n",
        "from sklearn.ensemble import RandomForestClassifier\n",
        "from sklearn.model_selection import RandomizedSearchCV, GridSearchCV\n",
        "from sklearn.metrics import roc_auc_score\n",
        "from sklearn.model_selection import StratifiedKFold\n",
        "import xgboost as xgb\n",
        "import operator"
      ],
      "execution_count": 0,
      "outputs": []
    },
    {
      "cell_type": "code",
      "metadata": {
        "id": "Y9oRXndJcLQh",
        "colab_type": "code",
        "outputId": "453cd790-0cb7-4a00-b98e-38e7be8551ce",
        "colab": {
          "base_uri": "https://localhost:8080/",
          "height": 705
        }
      },
      "source": [
        "#load data\n",
        "df_train = pd.read_csv(\"/content/drive/My Drive/airbnb-recruiting-new-user-bookings/train_users_2.csv\")\n",
        "df_test = pd.read_csv(\"/content/drive/My Drive/airbnb-recruiting-new-user-bookings/test_users.csv\")\n",
        "\n",
        "Gend=['MALE','FEMALE']\n",
        "\n",
        "labels = df_train['country_destination'].values # Get the values of the country destination for each row\n",
        "#df_train = df_train.drop(['country_destination'], axis=1) # It's the output variable for the decision tree\n",
        "id_test = df_test['id']\n",
        "piv_train = df_train.shape[0] # Size of df_train (number of rows)\n",
        "\n",
        "df_train['account_created']=pd.to_datetime(df_train.date_account_created)\n",
        "df_test['account_created']=pd.to_datetime(df_test.date_account_created)\n",
        "av = df_train.age.values   #1914<age<2004-->date account created , age<10,110<age<151,age>2003-->mean age\n",
        "av2=df_test.age.values\n",
        "df_train['age'] = np.where(np.logical_and(av>1914, av<2004),df_train.account_created.dt.year-av, av)\n",
        "df_test['age'] = np.where(np.logical_and(av2>1914, av2<2004),df_test.account_created.dt.year-av2, av2)\n",
        "\n",
        "df_train['gender']=df_train['gender'].map(lambda x:random.choice(Gend) if x== '-unknown-' else x)\n",
        "df_test['gender']=df_test['gender'].map(lambda x:random.choice(Gend) if x== '-unknown-' else x)\n",
        "\n",
        "# Creating a dataframe that contains the training set and the testing set\n",
        "# This will help us on transforming the data so that we apply the transormation for all the dataset instead of each\n",
        "# We will separate both of them when applying the decision tree classification\n",
        "df_all = pd.concat((df_train, df_test), axis = 0, ignore_index = True)\n",
        "\n",
        "# We remove the id and the date of first booking since it is not used as an input to our classifier\n",
        "df_all = df_all.drop(['id','date_first_booking'], axis=1)\n",
        "\n",
        "# Missing values\n",
        "\n",
        "\n",
        "# Date_account_created transformation\n",
        "# Separate the day mounth and year into different columns\n",
        "dac = np.vstack(df_all.date_account_created.astype(str).apply(lambda x: list(map(int, x.split('-')))).values)\n",
        "print(dac)\n",
        "df_all['dac_year'] = dac[:,0]\n",
        "df_all['dac_mounth'] = dac[:,1]\n",
        "df_all['dac_day'] = dac[:,2]\n",
        "df_all = df_all.drop(['date_account_created'], axis = 1)\n",
        "df_all = df_all.drop(['account_created'], axis = 1)\n",
        "\n",
        "\n",
        "# timestamp_first_active transformation\n",
        "# Here as well we separate the timestamp first active into day mount and year\n",
        "tfa = np.vstack(df_all.timestamp_first_active.astype(str).apply(lambda x: list(map(int, [x[:4],x[4:6],x[6:8],x[8:10],x[10:12],x[12:14]]))).values)\n",
        "print(tfa)\n",
        "df_all['tfa_year'] = tfa[:,0]\n",
        "df_all['tfa_month'] = tfa[:,1]\n",
        "df_all['tfa_day'] = tfa[:,2]\n",
        "df_all = df_all.drop(['timestamp_first_active'], axis=1)\n",
        "\n",
        "# Age transformation\n",
        "print(df_all.age.describe()) # We can see that the age has some inconsistancy variables\n",
        "av = df_all.age.values\n",
        "mean_age=int(df_all.age.mean())\n",
        "df_all.age=df_all.age.fillna(value=mean_age)\n",
        "df_all['age'] = np.where(av<10,mean_age, av)\n",
        "df_all['age'] = np.where(av>2003,mean_age, av)\n",
        "df_all['age'] = np.where(av>110,mean_age, av)\n",
        "\n",
        "\n",
        "# Transforming the values into categorical values\n",
        "features = ['gender', 'signup_method', 'signup_flow', 'language', 'affiliate_channel', 'affiliate_provider', 'first_affiliate_tracked', 'signup_app', 'first_device_type', 'first_browser']\n",
        "\n",
        "for f in features:\n",
        "    df_all_dummy = pd.get_dummies(df_all[f], prefix=f)\n",
        "    df_all = df_all.drop([f], axis=1)\n",
        "    df_all = pd.concat((df_all, df_all_dummy), axis=1)\n",
        "    "
      ],
      "execution_count": 3,
      "outputs": [
        {
          "output_type": "stream",
          "text": [
            "/usr/local/lib/python3.6/dist-packages/ipykernel_launcher.py:15: RuntimeWarning: invalid value encountered in greater\n",
            "  from ipykernel import kernelapp as app\n",
            "/usr/local/lib/python3.6/dist-packages/ipykernel_launcher.py:15: RuntimeWarning: invalid value encountered in less\n",
            "  from ipykernel import kernelapp as app\n",
            "/usr/local/lib/python3.6/dist-packages/ipykernel_launcher.py:16: RuntimeWarning: invalid value encountered in greater\n",
            "  app.launch_new_instance()\n",
            "/usr/local/lib/python3.6/dist-packages/ipykernel_launcher.py:16: RuntimeWarning: invalid value encountered in less\n",
            "  app.launch_new_instance()\n",
            "/usr/local/lib/python3.6/dist-packages/ipykernel_launcher.py:24: FutureWarning: Sorting because non-concatenation axis is not aligned. A future version\n",
            "of pandas will change to not sort by default.\n",
            "\n",
            "To accept the future behavior, pass 'sort=False'.\n",
            "\n",
            "To retain the current behavior and silence the warning, pass 'sort=True'.\n",
            "\n"
          ],
          "name": "stderr"
        },
        {
          "output_type": "stream",
          "text": [
            "[[2010    6   28]\n",
            " [2011    5   25]\n",
            " [2010    9   28]\n",
            " ...\n",
            " [2014    9   30]\n",
            " [2014    9   30]\n",
            " [2014    9   30]]\n",
            "[[2009    3   19    4   32   55]\n",
            " [2009    5   23   17   48    9]\n",
            " [2009    6    9   23   12   47]\n",
            " ...\n",
            " [2014    9   30   23   54    8]\n",
            " [2014    9   30   23   54   30]\n",
            " [2014    9   30   23   59    1]]\n",
            "count    158681.000000\n",
            "mean         46.226511\n",
            "std         136.303422\n",
            "min           1.000000\n",
            "25%          28.000000\n",
            "50%          33.000000\n",
            "75%          42.000000\n",
            "max        2014.000000\n",
            "Name: age, dtype: float64\n"
          ],
          "name": "stdout"
        }
      ]
    },
    {
      "cell_type": "code",
      "metadata": {
        "id": "7wOH8ALcceGG",
        "colab_type": "code",
        "colab": {}
      },
      "source": [
        "X = df_all.iloc[:piv_train,:]\n",
        "le = LabelEncoder()\n",
        "y = le.fit_transform(labels)   \n",
        "X_test = df_all.iloc[piv_train:,:]"
      ],
      "execution_count": 0,
      "outputs": []
    },
    {
      "cell_type": "code",
      "metadata": {
        "id": "A5hrIqbvZnoR",
        "colab_type": "code",
        "outputId": "5af86d6f-a7dc-4199-a59a-08f97e7e4d9f",
        "colab": {
          "base_uri": "https://localhost:8080/",
          "height": 122
        }
      },
      "source": [
        "X['new_age']=X.age"
      ],
      "execution_count": 5,
      "outputs": [
        {
          "output_type": "stream",
          "text": [
            "/usr/local/lib/python3.6/dist-packages/ipykernel_launcher.py:1: SettingWithCopyWarning: \n",
            "A value is trying to be set on a copy of a slice from a DataFrame.\n",
            "Try using .loc[row_indexer,col_indexer] = value instead\n",
            "\n",
            "See the caveats in the documentation: http://pandas.pydata.org/pandas-docs/stable/indexing.html#indexing-view-versus-copy\n",
            "  \"\"\"Entry point for launching an IPython kernel.\n"
          ],
          "name": "stderr"
        }
      ]
    },
    {
      "cell_type": "code",
      "metadata": {
        "id": "UHkTi9i9JOrw",
        "colab_type": "code",
        "outputId": "e3dcb8e8-e752-462f-d98a-79a067102d4e",
        "colab": {
          "base_uri": "https://localhost:8080/",
          "height": 122
        }
      },
      "source": [
        "X.loc[X.age<18,'new_age']='Underage'\n",
        "X.loc[(X.age>17) & (X.age<30),'new_age']='Twenty'\n",
        "X.loc[(X.age>29) & (X.age<40),'new_age']='Thirty'\n",
        "X.loc[(X.age>39) & (X.age<50),'new_age']='Fourty'\n",
        "X.loc[(X.age>49) & (X.age<60),'new_age']='Fifty'\n",
        "X.loc[(X.age>59) & (X.age<70),'new_age']='Sixty'\n",
        "X.loc[(X.age>69),'new_age']='Over70'"
      ],
      "execution_count": 6,
      "outputs": [
        {
          "output_type": "stream",
          "text": [
            "/usr/local/lib/python3.6/dist-packages/pandas/core/indexing.py:543: SettingWithCopyWarning: \n",
            "A value is trying to be set on a copy of a slice from a DataFrame.\n",
            "Try using .loc[row_indexer,col_indexer] = value instead\n",
            "\n",
            "See the caveats in the documentation: http://pandas.pydata.org/pandas-docs/stable/indexing.html#indexing-view-versus-copy\n",
            "  self.obj[item] = s\n"
          ],
          "name": "stderr"
        }
      ]
    },
    {
      "cell_type": "code",
      "metadata": {
        "id": "Iq6UJzTtgRQJ",
        "colab_type": "code",
        "outputId": "1705ce06-aafb-4680-b5e8-24d28b9810b2",
        "colab": {
          "base_uri": "https://localhost:8080/",
          "height": 122
        }
      },
      "source": [
        "X['Age']=X['new_age']"
      ],
      "execution_count": 7,
      "outputs": [
        {
          "output_type": "stream",
          "text": [
            "/usr/local/lib/python3.6/dist-packages/ipykernel_launcher.py:1: SettingWithCopyWarning: \n",
            "A value is trying to be set on a copy of a slice from a DataFrame.\n",
            "Try using .loc[row_indexer,col_indexer] = value instead\n",
            "\n",
            "See the caveats in the documentation: http://pandas.pydata.org/pandas-docs/stable/indexing.html#indexing-view-versus-copy\n",
            "  \"\"\"Entry point for launching an IPython kernel.\n"
          ],
          "name": "stderr"
        }
      ]
    },
    {
      "cell_type": "code",
      "metadata": {
        "id": "3qnWY_ixZ1tt",
        "colab_type": "code",
        "colab": {}
      },
      "source": [
        "df=X[['Age','country_destination']]"
      ],
      "execution_count": 0,
      "outputs": []
    },
    {
      "cell_type": "code",
      "metadata": {
        "id": "Bl3ZnaVAIMQ1",
        "colab_type": "code",
        "colab": {}
      },
      "source": [
        "x = df.groupby(['Age','country_destination']).size().to_frame('occurences').reset_index()"
      ],
      "execution_count": 0,
      "outputs": []
    },
    {
      "cell_type": "code",
      "metadata": {
        "id": "EqolqlPdief1",
        "colab_type": "code",
        "colab": {}
      },
      "source": [
        "freq_df = df.groupby(['Age'])['country_destination'].value_counts().unstack()\n",
        "pct_df = freq_df.divide(freq_df.sum(axis=1), axis=0)"
      ],
      "execution_count": 0,
      "outputs": []
    },
    {
      "cell_type": "markdown",
      "metadata": {
        "id": "Hgbs3gGUG1rH",
        "colab_type": "text"
      },
      "source": [
        "Age에 따른 Destination"
      ]
    },
    {
      "cell_type": "code",
      "metadata": {
        "id": "q2tf_PcGi8-C",
        "colab_type": "code",
        "outputId": "46e0bbc6-bb71-49fa-b608-931fc787436a",
        "colab": {
          "base_uri": "https://localhost:8080/",
          "height": 339
        }
      },
      "source": [
        "pct_df.plot(kind=\"bar\", stacked=True)\n",
        "plt.legend(loc='center right', bbox_to_anchor=(1.25, 0.5), ncol=1)"
      ],
      "execution_count": 11,
      "outputs": [
        {
          "output_type": "execute_result",
          "data": {
            "text/plain": [
              "<matplotlib.legend.Legend at 0x7f414c9ba940>"
            ]
          },
          "metadata": {
            "tags": []
          },
          "execution_count": 11
        },
        {
          "output_type": "display_data",
          "data": {
            "image/png": "[encoded data removed]",
            "text/plain": [
              "<Figure size 432x288 with 1 Axes>"
            ]
          },
          "metadata": {
            "tags": []
          }
        }
      ]
    },
    {
      "cell_type": "code",
      "metadata": {
        "id": "fV7WeJRzesdP",
        "colab_type": "code",
        "outputId": "62a030f3-1697-4931-9ba6-caa4a57b39f1",
        "colab": {
          "base_uri": "https://localhost:8080/",
          "height": 300
        }
      },
      "source": [
        "sns.barplot(x='Age', y='occurences', hue='country_destination', data=x)\n",
        "plt.legend(loc='center right', bbox_to_anchor=(1.25, 0.5), ncol=1)"
      ],
      "execution_count": 12,
      "outputs": [
        {
          "output_type": "execute_result",
          "data": {
            "text/plain": [
              "<matplotlib.legend.Legend at 0x7f4141432748>"
            ]
          },
          "metadata": {
            "tags": []
          },
          "execution_count": 12
        },
        {
          "output_type": "display_data",
          "data": {
            "image/png": "[encoded data removed]",
            "text/plain": [
              "<Figure size 432x288 with 1 Axes>"
            ]
          },
          "metadata": {
            "tags": []
          }
        }
      ]
    },
    {
      "cell_type": "markdown",
      "metadata": {
        "id": "1UqSuR2KHCKf",
        "colab_type": "text"
      },
      "source": [
        "FaceBook Singup 유무에 따른 Destination"
      ]
    },
    {
      "cell_type": "code",
      "metadata": {
        "id": "JtU5iYokmVkb",
        "colab_type": "code",
        "colab": {}
      },
      "source": [
        "df2=X[['signup_method_facebook','country_destination']]\n",
        "x = df2.groupby(['signup_method_facebook','country_destination']).size().to_frame('occurences').reset_index()"
      ],
      "execution_count": 0,
      "outputs": []
    },
    {
      "cell_type": "code",
      "metadata": {
        "id": "gtlJXTcrnrHN",
        "colab_type": "code",
        "outputId": "7e314770-6a54-42c9-cf1a-d426a786da6a",
        "colab": {
          "base_uri": "https://localhost:8080/",
          "height": 302
        }
      },
      "source": [
        "sns.barplot(x='signup_method_facebook', y='occurences', hue='country_destination', data=x)\n",
        "plt.legend(loc='center right', bbox_to_anchor=(1.25, 0.5), ncol=1)"
      ],
      "execution_count": 15,
      "outputs": [
        {
          "output_type": "execute_result",
          "data": {
            "text/plain": [
              "<matplotlib.legend.Legend at 0x7f41415926d8>"
            ]
          },
          "metadata": {
            "tags": []
          },
          "execution_count": 15
        },
        {
          "output_type": "display_data",
          "data": {
            "image/png": "[encoded data removed]",
            "text/plain": [
              "<Figure size 432x288 with 1 Axes>"
            ]
          },
          "metadata": {
            "tags": []
          }
        }
      ]
    },
    {
      "cell_type": "code",
      "metadata": {
        "id": "THXdKdODnDCZ",
        "colab_type": "code",
        "colab": {}
      },
      "source": [
        "freq_df = df2.groupby(['country_destination'])['signup_method_facebook'].value_counts().unstack()\n",
        "pct_df = freq_df.divide(freq_df.sum(axis=1), axis=0)"
      ],
      "execution_count": 0,
      "outputs": []
    },
    {
      "cell_type": "code",
      "metadata": {
        "id": "lbm5tEJHnIcy",
        "colab_type": "code",
        "outputId": "da1c2439-d353-4c5f-c16a-2ce4661942cd",
        "colab": {
          "base_uri": "https://localhost:8080/",
          "height": 317
        }
      },
      "source": [
        "pct_df.plot(kind=\"bar\", stacked=True)\n",
        "plt.legend(loc='center right', bbox_to_anchor=(1.25, 0.5), ncol=1)"
      ],
      "execution_count": 17,
      "outputs": [
        {
          "output_type": "execute_result",
          "data": {
            "text/plain": [
              "<matplotlib.legend.Legend at 0x7f4141592390>"
            ]
          },
          "metadata": {
            "tags": []
          },
          "execution_count": 17
        },
        {
          "output_type": "display_data",
          "data": {
            "image/png": "[encoded data removed]",
            "text/plain": [
              "<Figure size 432x288 with 1 Axes>"
            ]
          },
          "metadata": {
            "tags": []
          }
        }
      ]
    },
    {
      "cell_type": "markdown",
      "metadata": {
        "id": "3ydZKuRGHOEA",
        "colab_type": "text"
      },
      "source": [
        "Age에 따른 FaceBook Singup 유무"
      ]
    },
    {
      "cell_type": "code",
      "metadata": {
        "id": "2LrYwBYupVju",
        "colab_type": "code",
        "outputId": "e4f89372-b572-44e7-b516-f4bad4f7edeb",
        "colab": {
          "base_uri": "https://localhost:8080/",
          "height": 339
        }
      },
      "source": [
        "df3=X[['Age','signup_method_facebook']]\n",
        "freq_df = df3.groupby(['Age'])['signup_method_facebook'].value_counts().unstack()\n",
        "pct_df = freq_df.divide(freq_df.sum(axis=1), axis=0)\n",
        "pct_df.plot(kind=\"bar\", stacked=True)\n",
        "plt.legend(loc='center right', bbox_to_anchor=(1.25, 0.5), ncol=1)"
      ],
      "execution_count": 18,
      "outputs": [
        {
          "output_type": "execute_result",
          "data": {
            "text/plain": [
              "<matplotlib.legend.Legend at 0x7f4140b4d0b8>"
            ]
          },
          "metadata": {
            "tags": []
          },
          "execution_count": 18
        },
        {
          "output_type": "display_data",
          "data": {
            "image/png": "[encoded data removed]",
            "text/plain": [
              "<Figure size 432x288 with 1 Axes>"
            ]
          },
          "metadata": {
            "tags": []
          }
        }
      ]
    },
    {
      "cell_type": "code",
      "metadata": {
        "id": "--pSdhTxr5iO",
        "colab_type": "code",
        "outputId": "c53b8021-d9f9-4f67-8b82-2591be8019c0",
        "colab": {
          "base_uri": "https://localhost:8080/",
          "height": 360
        }
      },
      "source": [
        "df4=X[['Age','signup_method_facebook','country_destination']]\n",
        "freq_df = df4.groupby(['Age','signup_method_facebook'])['country_destination'].value_counts().unstack()\n",
        "pct_df = freq_df.divide(freq_df.sum(axis=1), axis=0)\n",
        "pct_df.plot(kind=\"bar\", stacked=True)\n",
        "plt.legend(loc='center right', bbox_to_anchor=(1.25, 0.5), ncol=1)"
      ],
      "execution_count": 19,
      "outputs": [
        {
          "output_type": "execute_result",
          "data": {
            "text/plain": [
              "<matplotlib.legend.Legend at 0x7f4140b36ac8>"
            ]
          },
          "metadata": {
            "tags": []
          },
          "execution_count": 19
        },
        {
          "output_type": "display_data",
          "data": {
            "image/png": "[encoded data removed]",
            "text/plain": [
              "<Figure size 432x288 with 1 Axes>"
            ]
          },
          "metadata": {
            "tags": []
          }
        }
      ]
    },
    {
      "cell_type": "markdown",
      "metadata": {
        "id": "NxEcGWo6HZA7",
        "colab_type": "text"
      },
      "source": [
        "40대의 FaceBook SignUp 유뮤와 Destination의 관계"
      ]
    },
    {
      "cell_type": "code",
      "metadata": {
        "id": "YbzwUtjxwz1a",
        "colab_type": "code",
        "colab": {}
      },
      "source": [
        "notf=df4.groupby(['Age','signup_method_facebook'])['country_destination'].get_group(('Fourty',0)).value_counts()\n",
        "yesf=df4.groupby(['Age','signup_method_facebook'])['country_destination'].get_group(('Fourty',1)).value_counts()"
      ],
      "execution_count": 0,
      "outputs": []
    },
    {
      "cell_type": "code",
      "metadata": {
        "id": "AE9kI3K6s36o",
        "colab_type": "code",
        "outputId": "c291ebb4-703d-4d5e-cec2-6a587e9e6134",
        "colab": {
          "base_uri": "https://localhost:8080/",
          "height": 283
        }
      },
      "source": [
        "plt.subplot(121)\n",
        "plt.subplots_adjust(wspace=0.5)\n",
        "df4.groupby(['Age','signup_method_facebook'])['country_destination'].get_group(('Fourty',0)).value_counts().plot(kind = 'barh',stacked=True)\n",
        "plt.title('40s Not FaceBook',fontsize=15)\n",
        "plt.subplot(122)\n",
        "df4.groupby(['Age','signup_method_facebook'])['country_destination'].get_group(('Fourty',1)).value_counts().plot(kind = 'barh',stacked=True)\n",
        "plt.title('40s FaceBook',fontsize=15)\n",
        "plt.show()"
      ],
      "execution_count": 22,
      "outputs": [
        {
          "output_type": "display_data",
          "data": {
            "image/png": "[encoded data removed]",
            "text/plain": [
              "<Figure size 432x288 with 2 Axes>"
            ]
          },
          "metadata": {
            "tags": []
          }
        }
      ]
    },
    {
      "cell_type": "code",
      "metadata": {
        "id": "CUPi9l82WB-g",
        "colab_type": "code",
        "colab": {}
      },
      "source": [
        "notf=pd.Series(notf)"
      ],
      "execution_count": 0,
      "outputs": []
    },
    {
      "cell_type": "code",
      "metadata": {
        "id": "Mi9dAmE3xMOq",
        "colab_type": "code",
        "outputId": "c864aa75-b62d-40fd-f8af-356618ea0323",
        "colab": {
          "base_uri": "https://localhost:8080/",
          "height": 297
        }
      },
      "source": [
        "nf = sum(notf)\n",
        "yf = sum(yesf)\n",
        "\n",
        "female_destinations = notf/nf\n",
        "male_destinations =yesf/yf\n",
        "\n",
        "# Bar width\n",
        "width = 0.4\n",
        "\n",
        "male_destinations.plot(kind='bar', width=width, color='#4DD3C9', position=0, label='Singup_Facebook', rot=0)\n",
        "female_destinations.plot(kind='bar', width=width, color='#FFA35D', position=1, label='Singup_Other', rot=0)\n",
        "\n",
        "plt.legend()\n",
        "plt.title(\"40's Destination\",fontsize=15)\n",
        "plt.xlabel('Destination Country')\n",
        "plt.ylabel('Ratio')\n",
        "\n",
        "sns.despine()\n",
        "plt.show()"
      ],
      "execution_count": 24,
      "outputs": [
        {
          "output_type": "display_data",
          "data": {
            "image/png": "[encoded data removed]",
            "text/plain": [
              "<Figure size 432x288 with 1 Axes>"
            ]
          },
          "metadata": {
            "tags": []
          }
        }
      ]
    }
  ]
}