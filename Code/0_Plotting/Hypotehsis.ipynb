{
 "cells": [
  {
   "cell_type": "code",
   "execution_count": 1,
   "metadata": {
    "colab": {},
    "colab_type": "code",
    "id": "7XCLn0RtWops"
   },
   "outputs": [],
   "source": [
    "import pandas as pd\n",
    "import numpy as np\n",
    "from scipy.stats import skew\n",
    "import xgboost as xgb\n",
    "from sklearn.ensemble import ExtraTreesClassifier\n",
    "from sklearn.ensemble import RandomForestClassifier\n",
    "from sklearn.metrics import mean_squared_error\n",
    "from sklearn.linear_model import LogisticRegression\n",
    "from math import sqrt\n",
    "from sklearn.metrics import roc_auc_score\n",
    "from sklearn.model_selection import KFold\n",
    "from catboost import CatBoostClassifier\n",
    "from lightgbm import LGBMClassifier\n",
    "import gc\n",
    "\n",
    "NFOLDS = 3\n",
    "SEED = 0\n",
    "NROWS = None\n",
    "kf = KFold(n_splits = NFOLDS, shuffle=True, random_state=SEED)"
   ]
  },
  {
   "cell_type": "code",
   "execution_count": 2,
   "metadata": {
    "colab": {
     "base_uri": "https://localhost:8080/",
     "height": 71
    },
    "colab_type": "code",
    "id": "ZQQFJouUqp0t",
    "outputId": "b9619fc3-88ec-4bcd-b2c3-381f34de7dbf",
    "scrolled": true
   },
   "outputs": [],
   "source": [
    "import numpy as np\n",
    "import pandas as pd\n",
    "from sklearn.preprocessing import LabelEncoder\n",
    "from xgboost.sklearn import XGBClassifier\n",
    "from sklearn.model_selection import train_test_split\n",
    "from sklearn.metrics import accuracy_score\n",
    "from sklearn.neighbors import KNeighborsClassifier\n",
    "from sklearn.ensemble import RandomForestClassifier\n",
    "from xgboost import XGBClassifier\n",
    "\n",
    "import xgboost as xgb\n",
    "np.random.seed(0)\n",
    "\n",
    "#Loading data\n",
    "#Original data\n",
    "df_test = pd.read_csv('test_users.csv')\n",
    "df_train = pd.read_csv('train_users_2.csv')\n",
    "session = pd.read_csv('sessions.csv')"
   ]
  },
  {
   "cell_type": "code",
   "execution_count": 37,
   "metadata": {},
   "outputs": [],
   "source": [
    "import plotly.plotly as py\n",
    "import plotly.graph_objs as go\n",
    "import plotly \n",
    "plotly.tools.set_credentials_file(username='yycheong', api_key='B5E4Y352rGcaEg2SxMoj')\n",
    "import matplotlib.pyplot as plt"
   ]
  },
  {
   "cell_type": "code",
   "execution_count": 4,
   "metadata": {},
   "outputs": [],
   "source": [
    "import matplotlib.pyplot as plt\n",
    "import seaborn as sns"
   ]
  },
  {
   "cell_type": "markdown",
   "metadata": {},
   "source": [
    "### 가설1 - 선호 언어별 여행 국가 그래프"
   ]
  },
  {
   "cell_type": "code",
   "execution_count": 11,
   "metadata": {},
   "outputs": [],
   "source": [
    "language = ['en', 'fr', 'de', 'es', 'it', 'pt', 'zh', 'ko', 'ja', 'ru', 'pl',\n",
    "       'el', 'sv', 'nl', 'hu', 'da', 'fi', 'no', 'tr', 'th', 'cs','ca', 'is']\n",
    "\n",
    "\n",
    "#id hr\n",
    "destination = ['NDF', 'US', 'other', 'FR', 'CA', 'GB', 'ES', 'IT', 'PT', 'NL',\n",
    "       'DE', 'AU']\n",
    "\n"
   ]
  },
  {
   "cell_type": "code",
   "execution_count": 12,
   "metadata": {},
   "outputs": [],
   "source": [
    "# 언어별 목적지 국가(언어 기준) 확률 구하기\n",
    "country = {}\n",
    "index = ['en', 'fr','sp','it','du','de','pt','other']\n",
    "columns = ['en', 'fr', 'de', 'es', 'it', 'pt', 'zh', 'ko', 'ja', 'ru', 'pl',\n",
    "       'el', 'sv', 'nl', 'hu', 'da', 'fi', 'no', 'tr', 'th', 'cs','ca', 'is']\n",
    "df_ = pd.DataFrame(index=index,columns=columns)\n",
    "for x in language:\n",
    "    spec_country = df_train[df_train['language'] == x]\n",
    "    all = spec_country[spec_country['country_destination'] !='NDF'].shape[0]\n",
    "\n",
    "    english = spec_country[spec_country['country_destination'] == 'US'].shape[0] + spec_country[spec_country['country_destination'] == 'CA'].shape[0] +spec_country[spec_country['country_destination'] == 'GB'].shape[0]+spec_country[spec_country['country_destination'] == 'AU'].shape[0]\n",
    "    france = spec_country[spec_country['country_destination'] == 'FR'].shape[0]\n",
    "    spain = spec_country[spec_country['country_destination'] == 'ES'].shape[0]\n",
    "    italy = spec_country[spec_country['country_destination'] == 'IT'].shape[0]\n",
    "    dutch = spec_country[spec_country['country_destination'] == 'NL'].shape[0]\n",
    "    german = spec_country[spec_country['country_destination'] == 'DE'].shape[0]\n",
    "    portugal = spec_country[spec_country['country_destination'] == 'PT'].shape[0]\n",
    "    etc = spec_country[spec_country['country_destination'] == 'other'].shape[0]\n",
    "    en_prob = english/all\n",
    "    fr_prob = france/all\n",
    "    sp_prob = spain/all\n",
    "    it_prob = italy/all\n",
    "    du_prob = dutch/all\n",
    "    de_prob = german/all\n",
    "    pt_prob = portugal/all\n",
    "    et_prob = etc/all\n",
    "    df_[x] = [en_prob, fr_prob, sp_prob, it_prob, du_prob, de_prob, pt_prob, et_prob]\n",
    "    country[x] = [en_prob, fr_prob, sp_prob, it_prob, du_prob, de_prob, pt_prob, et_prob]\n",
    "    \n"
   ]
  },
  {
   "cell_type": "code",
   "execution_count": 18,
   "metadata": {},
   "outputs": [
    {
     "data": {
      "text/html": [
       "<div>\n",
       "<style scoped>\n",
       "    .dataframe tbody tr th:only-of-type {\n",
       "        vertical-align: middle;\n",
       "    }\n",
       "\n",
       "    .dataframe tbody tr th {\n",
       "        vertical-align: top;\n",
       "    }\n",
       "\n",
       "    .dataframe thead th {\n",
       "        text-align: right;\n",
       "    }\n",
       "</style>\n",
       "<table border=\"1\" class=\"dataframe\">\n",
       "  <thead>\n",
       "    <tr style=\"text-align: right;\">\n",
       "      <th></th>\n",
       "      <th>en</th>\n",
       "      <th>fr</th>\n",
       "      <th>de</th>\n",
       "      <th>es</th>\n",
       "      <th>it</th>\n",
       "      <th>pt</th>\n",
       "      <th>zh</th>\n",
       "      <th>ko</th>\n",
       "      <th>ja</th>\n",
       "      <th>ru</th>\n",
       "      <th>...</th>\n",
       "      <th>nl</th>\n",
       "      <th>hu</th>\n",
       "      <th>da</th>\n",
       "      <th>fi</th>\n",
       "      <th>no</th>\n",
       "      <th>tr</th>\n",
       "      <th>th</th>\n",
       "      <th>cs</th>\n",
       "      <th>ca</th>\n",
       "      <th>is</th>\n",
       "    </tr>\n",
       "  </thead>\n",
       "  <tbody>\n",
       "    <tr>\n",
       "      <th>en</th>\n",
       "      <td>0.750854</td>\n",
       "      <td>0.689223</td>\n",
       "      <td>0.748148</td>\n",
       "      <td>0.625455</td>\n",
       "      <td>0.625000</td>\n",
       "      <td>0.661290</td>\n",
       "      <td>0.804223</td>\n",
       "      <td>0.655602</td>\n",
       "      <td>0.785714</td>\n",
       "      <td>0.700000</td>\n",
       "      <td>...</td>\n",
       "      <td>0.542857</td>\n",
       "      <td>0.75</td>\n",
       "      <td>0.736842</td>\n",
       "      <td>0.714286</td>\n",
       "      <td>0.923077</td>\n",
       "      <td>0.70</td>\n",
       "      <td>0.75</td>\n",
       "      <td>0.666667</td>\n",
       "      <td>1.0</td>\n",
       "      <td>0.5</td>\n",
       "    </tr>\n",
       "    <tr>\n",
       "      <th>fr</th>\n",
       "      <td>0.056333</td>\n",
       "      <td>0.172932</td>\n",
       "      <td>0.037037</td>\n",
       "      <td>0.065455</td>\n",
       "      <td>0.028846</td>\n",
       "      <td>0.000000</td>\n",
       "      <td>0.024952</td>\n",
       "      <td>0.049793</td>\n",
       "      <td>0.047619</td>\n",
       "      <td>0.045455</td>\n",
       "      <td>...</td>\n",
       "      <td>0.085714</td>\n",
       "      <td>0.00</td>\n",
       "      <td>0.000000</td>\n",
       "      <td>0.142857</td>\n",
       "      <td>0.000000</td>\n",
       "      <td>0.05</td>\n",
       "      <td>0.00</td>\n",
       "      <td>0.000000</td>\n",
       "      <td>0.0</td>\n",
       "      <td>0.0</td>\n",
       "    </tr>\n",
       "    <tr>\n",
       "      <th>sp</th>\n",
       "      <td>0.025189</td>\n",
       "      <td>0.027569</td>\n",
       "      <td>0.025926</td>\n",
       "      <td>0.072727</td>\n",
       "      <td>0.057692</td>\n",
       "      <td>0.016129</td>\n",
       "      <td>0.005758</td>\n",
       "      <td>0.008299</td>\n",
       "      <td>0.011905</td>\n",
       "      <td>0.054545</td>\n",
       "      <td>...</td>\n",
       "      <td>0.000000</td>\n",
       "      <td>0.00</td>\n",
       "      <td>0.105263</td>\n",
       "      <td>0.000000</td>\n",
       "      <td>0.000000</td>\n",
       "      <td>0.00</td>\n",
       "      <td>0.00</td>\n",
       "      <td>0.111111</td>\n",
       "      <td>0.0</td>\n",
       "      <td>0.0</td>\n",
       "    </tr>\n",
       "    <tr>\n",
       "      <th>it</th>\n",
       "      <td>0.031882</td>\n",
       "      <td>0.027569</td>\n",
       "      <td>0.022222</td>\n",
       "      <td>0.032727</td>\n",
       "      <td>0.182692</td>\n",
       "      <td>0.000000</td>\n",
       "      <td>0.009597</td>\n",
       "      <td>0.037344</td>\n",
       "      <td>0.023810</td>\n",
       "      <td>0.063636</td>\n",
       "      <td>...</td>\n",
       "      <td>0.028571</td>\n",
       "      <td>0.00</td>\n",
       "      <td>0.052632</td>\n",
       "      <td>0.000000</td>\n",
       "      <td>0.000000</td>\n",
       "      <td>0.05</td>\n",
       "      <td>0.00</td>\n",
       "      <td>0.000000</td>\n",
       "      <td>0.0</td>\n",
       "      <td>0.0</td>\n",
       "    </tr>\n",
       "    <tr>\n",
       "      <th>du</th>\n",
       "      <td>0.008585</td>\n",
       "      <td>0.010025</td>\n",
       "      <td>0.007407</td>\n",
       "      <td>0.003636</td>\n",
       "      <td>0.019231</td>\n",
       "      <td>0.016129</td>\n",
       "      <td>0.000000</td>\n",
       "      <td>0.008299</td>\n",
       "      <td>0.000000</td>\n",
       "      <td>0.000000</td>\n",
       "      <td>...</td>\n",
       "      <td>0.114286</td>\n",
       "      <td>0.00</td>\n",
       "      <td>0.000000</td>\n",
       "      <td>0.000000</td>\n",
       "      <td>0.000000</td>\n",
       "      <td>0.00</td>\n",
       "      <td>0.00</td>\n",
       "      <td>0.000000</td>\n",
       "      <td>0.0</td>\n",
       "      <td>0.0</td>\n",
       "    </tr>\n",
       "    <tr>\n",
       "      <th>de</th>\n",
       "      <td>0.011723</td>\n",
       "      <td>0.020050</td>\n",
       "      <td>0.088889</td>\n",
       "      <td>0.021818</td>\n",
       "      <td>0.019231</td>\n",
       "      <td>0.000000</td>\n",
       "      <td>0.003839</td>\n",
       "      <td>0.000000</td>\n",
       "      <td>0.000000</td>\n",
       "      <td>0.009091</td>\n",
       "      <td>...</td>\n",
       "      <td>0.057143</td>\n",
       "      <td>0.00</td>\n",
       "      <td>0.000000</td>\n",
       "      <td>0.000000</td>\n",
       "      <td>0.000000</td>\n",
       "      <td>0.00</td>\n",
       "      <td>0.00</td>\n",
       "      <td>0.000000</td>\n",
       "      <td>0.0</td>\n",
       "      <td>0.0</td>\n",
       "    </tr>\n",
       "    <tr>\n",
       "      <th>pt</th>\n",
       "      <td>0.002423</td>\n",
       "      <td>0.005013</td>\n",
       "      <td>0.003704</td>\n",
       "      <td>0.007273</td>\n",
       "      <td>0.000000</td>\n",
       "      <td>0.016129</td>\n",
       "      <td>0.000000</td>\n",
       "      <td>0.000000</td>\n",
       "      <td>0.000000</td>\n",
       "      <td>0.000000</td>\n",
       "      <td>...</td>\n",
       "      <td>0.000000</td>\n",
       "      <td>0.00</td>\n",
       "      <td>0.000000</td>\n",
       "      <td>0.000000</td>\n",
       "      <td>0.000000</td>\n",
       "      <td>0.00</td>\n",
       "      <td>0.00</td>\n",
       "      <td>0.000000</td>\n",
       "      <td>0.0</td>\n",
       "      <td>0.0</td>\n",
       "    </tr>\n",
       "    <tr>\n",
       "      <th>other</th>\n",
       "      <td>0.113011</td>\n",
       "      <td>0.047619</td>\n",
       "      <td>0.066667</td>\n",
       "      <td>0.170909</td>\n",
       "      <td>0.067308</td>\n",
       "      <td>0.290323</td>\n",
       "      <td>0.151631</td>\n",
       "      <td>0.240664</td>\n",
       "      <td>0.130952</td>\n",
       "      <td>0.127273</td>\n",
       "      <td>...</td>\n",
       "      <td>0.171429</td>\n",
       "      <td>0.25</td>\n",
       "      <td>0.105263</td>\n",
       "      <td>0.142857</td>\n",
       "      <td>0.076923</td>\n",
       "      <td>0.20</td>\n",
       "      <td>0.25</td>\n",
       "      <td>0.222222</td>\n",
       "      <td>0.0</td>\n",
       "      <td>0.5</td>\n",
       "    </tr>\n",
       "  </tbody>\n",
       "</table>\n",
       "<p>8 rows × 23 columns</p>\n",
       "</div>"
      ],
      "text/plain": [
       "             en        fr        de        es        it        pt        zh  \\\n",
       "en     0.750854  0.689223  0.748148  0.625455  0.625000  0.661290  0.804223   \n",
       "fr     0.056333  0.172932  0.037037  0.065455  0.028846  0.000000  0.024952   \n",
       "sp     0.025189  0.027569  0.025926  0.072727  0.057692  0.016129  0.005758   \n",
       "it     0.031882  0.027569  0.022222  0.032727  0.182692  0.000000  0.009597   \n",
       "du     0.008585  0.010025  0.007407  0.003636  0.019231  0.016129  0.000000   \n",
       "de     0.011723  0.020050  0.088889  0.021818  0.019231  0.000000  0.003839   \n",
       "pt     0.002423  0.005013  0.003704  0.007273  0.000000  0.016129  0.000000   \n",
       "other  0.113011  0.047619  0.066667  0.170909  0.067308  0.290323  0.151631   \n",
       "\n",
       "             ko        ja        ru  ...        nl    hu        da        fi  \\\n",
       "en     0.655602  0.785714  0.700000  ...  0.542857  0.75  0.736842  0.714286   \n",
       "fr     0.049793  0.047619  0.045455  ...  0.085714  0.00  0.000000  0.142857   \n",
       "sp     0.008299  0.011905  0.054545  ...  0.000000  0.00  0.105263  0.000000   \n",
       "it     0.037344  0.023810  0.063636  ...  0.028571  0.00  0.052632  0.000000   \n",
       "du     0.008299  0.000000  0.000000  ...  0.114286  0.00  0.000000  0.000000   \n",
       "de     0.000000  0.000000  0.009091  ...  0.057143  0.00  0.000000  0.000000   \n",
       "pt     0.000000  0.000000  0.000000  ...  0.000000  0.00  0.000000  0.000000   \n",
       "other  0.240664  0.130952  0.127273  ...  0.171429  0.25  0.105263  0.142857   \n",
       "\n",
       "             no    tr    th        cs   ca   is  \n",
       "en     0.923077  0.70  0.75  0.666667  1.0  0.5  \n",
       "fr     0.000000  0.05  0.00  0.000000  0.0  0.0  \n",
       "sp     0.000000  0.00  0.00  0.111111  0.0  0.0  \n",
       "it     0.000000  0.05  0.00  0.000000  0.0  0.0  \n",
       "du     0.000000  0.00  0.00  0.000000  0.0  0.0  \n",
       "de     0.000000  0.00  0.00  0.000000  0.0  0.0  \n",
       "pt     0.000000  0.00  0.00  0.000000  0.0  0.0  \n",
       "other  0.076923  0.20  0.25  0.222222  0.0  0.5  \n",
       "\n",
       "[8 rows x 23 columns]"
      ]
     },
     "execution_count": 18,
     "metadata": {},
     "output_type": "execute_result"
    }
   ],
   "source": [
    "df_"
   ]
  },
  {
   "cell_type": "code",
   "execution_count": null,
   "metadata": {},
   "outputs": [],
   "source": [
    "#그래프 그리기\n",
    "language_impt =  ['en', 'fr', 'de', 'es', 'it', 'pt', 'zh', 'ko', 'ja','nl']\n",
    "\n",
    "for x in language_impt:\n",
    "    labels = ['en', 'fr','sp','it','du','de','pt','other']\n",
    "    values = country[x]\n",
    "    cmap = plt.get_cmap('Spectral')\n",
    "    colors =  ['#CECF93','#FACFB3','#FDBFD5' ,'#A1346C',  '#E1396D','#36B38B','#76D38B', '#80F9B1']\n",
    "\n",
    "    trace = go.Pie(labels=labels, values=values, marker=dict(colors=colors))\n",
    "\n",
    "    layout = dict(title =  'Preference : '+x,\n",
    "                            autosize = False,\n",
    "                            height  = 500,\n",
    "                            width   = 800)\n",
    "    fig = dict(data = [trace], layout=layout)\n",
    "\n",
    "\n",
    "    py.iplot(fig, filename = 'basic-line'+x)\n",
    "    "
   ]
  },
  {
   "cell_type": "markdown",
   "metadata": {},
   "source": [
    "### 선호 언어가 영어,프랑스어,스페인어,독일어인 사람이 어떤 국가로 여행가는지에 관한 그래프"
   ]
  },
  {
   "cell_type": "code",
   "execution_count": 14,
   "metadata": {},
   "outputs": [
    {
     "name": "stderr",
     "output_type": "stream",
     "text": [
      "C:\\Users\\yeramc\\Anaconda3\\lib\\site-packages\\IPython\\core\\display.py:689: UserWarning:\n",
      "\n",
      "Consider using IPython.display.IFrame instead\n",
      "\n"
     ]
    },
    {
     "data": {
      "text/html": [
       "<iframe id=\"igraph\" scrolling=\"no\" style=\"border:none;\" seamless=\"seamless\" src=\"https://plot.ly/~ycheong/64.embed\" height=\"500px\" width=\"800px\"></iframe>"
      ],
      "text/plain": [
       "<chart_studio.tools.PlotlyDisplay object>"
      ]
     },
     "execution_count": 14,
     "metadata": {},
     "output_type": "execute_result"
    }
   ],
   "source": [
    "labels = ['en', 'fr','sp','it','du','de','pt','other']\n",
    "values = country['en']\n",
    "cmap = plt.get_cmap('Spectral')\n",
    "colors =  ['#CECF93','#FACFB3','#FDBFD5' ,'#A1346C',  '#E1396D','#36B38B','#76D38B', '#80F9B1']\n",
    "\n",
    "trace = go.Pie(labels=labels, values=values, marker=dict(colors=colors))\n",
    "\n",
    "layout = dict(title =  'Preference : '+'en',\n",
    "                        autosize = False,\n",
    "                        height  = 500,\n",
    "                        width   = 800)\n",
    "fig = dict(data = [trace], layout=layout)\n",
    "\n",
    "\n",
    "py.iplot(fig, filename = 'basic-line'+'en')"
   ]
  },
  {
   "cell_type": "code",
   "execution_count": 15,
   "metadata": {},
   "outputs": [
    {
     "name": "stderr",
     "output_type": "stream",
     "text": [
      "C:\\Users\\yeramc\\Anaconda3\\lib\\site-packages\\IPython\\core\\display.py:689: UserWarning:\n",
      "\n",
      "Consider using IPython.display.IFrame instead\n",
      "\n"
     ]
    },
    {
     "data": {
      "text/html": [
       "<iframe id=\"igraph\" scrolling=\"no\" style=\"border:none;\" seamless=\"seamless\" src=\"https://plot.ly/~ycheong/4.embed\" height=\"500px\" width=\"800px\"></iframe>"
      ],
      "text/plain": [
       "<chart_studio.tools.PlotlyDisplay object>"
      ]
     },
     "execution_count": 15,
     "metadata": {},
     "output_type": "execute_result"
    }
   ],
   "source": [
    "labels = ['en', 'fr','sp','it','du','de','pt','other']\n",
    "values = country['fr']\n",
    "cmap = plt.get_cmap('Spectral')\n",
    "colors =  ['#CECF93','#FACFB3','#FDBFD5' ,'#A1346C',  '#E1396D','#36B38B','#76D38B', '#80F9B1']\n",
    "\n",
    "trace = go.Pie(labels=labels, values=values, marker=dict(colors=colors))\n",
    "\n",
    "layout = dict(title =  'Preference : '+'fr',\n",
    "                        autosize = False,\n",
    "                        height  = 500,\n",
    "                        width   = 800)\n",
    "fig = dict(data = [trace], layout=layout)\n",
    "\n",
    "\n",
    "py.iplot(fig, filename = 'basic-line'+'fr')"
   ]
  },
  {
   "cell_type": "code",
   "execution_count": 16,
   "metadata": {},
   "outputs": [
    {
     "name": "stderr",
     "output_type": "stream",
     "text": [
      "C:\\Users\\yeramc\\Anaconda3\\lib\\site-packages\\IPython\\core\\display.py:689: UserWarning:\n",
      "\n",
      "Consider using IPython.display.IFrame instead\n",
      "\n"
     ]
    },
    {
     "data": {
      "text/html": [
       "<iframe id=\"igraph\" scrolling=\"no\" style=\"border:none;\" seamless=\"seamless\" src=\"https://plot.ly/~ycheong/66.embed\" height=\"500px\" width=\"800px\"></iframe>"
      ],
      "text/plain": [
       "<chart_studio.tools.PlotlyDisplay object>"
      ]
     },
     "execution_count": 16,
     "metadata": {},
     "output_type": "execute_result"
    }
   ],
   "source": [
    "labels = ['en', 'fr','sp','it','du','de','pt','other']\n",
    "values = country['es']\n",
    "cmap = plt.get_cmap('Spectral')\n",
    "colors =  ['#CECF93','#FACFB3','#FDBFD5' ,'#A1346C',  '#E1396D','#36B38B','#76D38B', '#80F9B1']\n",
    "\n",
    "trace = go.Pie(labels=labels, values=values, marker=dict(colors=colors))\n",
    "\n",
    "layout = dict(title =  'Preference : '+'es',\n",
    "                        autosize = False,\n",
    "                        height  = 500,\n",
    "                        width   = 800)\n",
    "fig = dict(data = [trace], layout=layout)\n",
    "\n",
    "\n",
    "py.iplot(fig, filename = 'basic-line'+'es')"
   ]
  },
  {
   "cell_type": "code",
   "execution_count": 17,
   "metadata": {},
   "outputs": [
    {
     "name": "stderr",
     "output_type": "stream",
     "text": [
      "C:\\Users\\yeramc\\Anaconda3\\lib\\site-packages\\IPython\\core\\display.py:689: UserWarning:\n",
      "\n",
      "Consider using IPython.display.IFrame instead\n",
      "\n"
     ]
    },
    {
     "data": {
      "text/html": [
       "<iframe id=\"igraph\" scrolling=\"no\" style=\"border:none;\" seamless=\"seamless\" src=\"https://plot.ly/~ycheong/6.embed\" height=\"500px\" width=\"800px\"></iframe>"
      ],
      "text/plain": [
       "<chart_studio.tools.PlotlyDisplay object>"
      ]
     },
     "execution_count": 17,
     "metadata": {},
     "output_type": "execute_result"
    }
   ],
   "source": [
    "labels = ['en', 'fr','sp','it','du','de','pt','other']\n",
    "values = country['de']\n",
    "cmap = plt.get_cmap('Spectral')\n",
    "colors =  ['#CECF93','#FACFB3','#FDBFD5' ,'#A1346C',  '#E1396D','#36B38B','#76D38B', '#80F9B1']\n",
    "\n",
    "trace = go.Pie(labels=labels, values=values, marker=dict(colors=colors))\n",
    "\n",
    "layout = dict(title =  'Preference : '+'de',\n",
    "                        autosize = False,\n",
    "                        height  = 500,\n",
    "                        width   = 800)\n",
    "fig = dict(data = [trace], layout=layout)\n",
    "\n",
    "\n",
    "py.iplot(fig, filename = 'basic-line'+'de')"
   ]
  },
  {
   "cell_type": "markdown",
   "metadata": {},
   "source": [
    "# 가설2"
   ]
  },
  {
   "cell_type": "markdown",
   "metadata": {},
   "source": [
    "## 가설2를 위한 session 데이터 요약하기(device_type, secs_elapsed에만 관해서)"
   ]
  },
  {
   "cell_type": "code",
   "execution_count": 157,
   "metadata": {},
   "outputs": [
    {
     "data": {
      "text/html": [
       "<div>\n",
       "<style scoped>\n",
       "    .dataframe tbody tr th:only-of-type {\n",
       "        vertical-align: middle;\n",
       "    }\n",
       "\n",
       "    .dataframe tbody tr th {\n",
       "        vertical-align: top;\n",
       "    }\n",
       "\n",
       "    .dataframe thead th {\n",
       "        text-align: right;\n",
       "    }\n",
       "</style>\n",
       "<table border=\"1\" class=\"dataframe\">\n",
       "  <thead>\n",
       "    <tr style=\"text-align: right;\">\n",
       "      <th></th>\n",
       "      <th>user_id</th>\n",
       "      <th>action</th>\n",
       "      <th>action_type</th>\n",
       "      <th>action_detail</th>\n",
       "      <th>device_type</th>\n",
       "      <th>secs_elapsed</th>\n",
       "    </tr>\n",
       "  </thead>\n",
       "  <tbody>\n",
       "    <tr>\n",
       "      <th>0</th>\n",
       "      <td>d1mm9tcy42</td>\n",
       "      <td>lookup</td>\n",
       "      <td>NaN</td>\n",
       "      <td>NaN</td>\n",
       "      <td>Windows Desktop</td>\n",
       "      <td>319.0</td>\n",
       "    </tr>\n",
       "    <tr>\n",
       "      <th>1</th>\n",
       "      <td>d1mm9tcy42</td>\n",
       "      <td>search_results</td>\n",
       "      <td>click</td>\n",
       "      <td>view_search_results</td>\n",
       "      <td>Windows Desktop</td>\n",
       "      <td>67753.0</td>\n",
       "    </tr>\n",
       "    <tr>\n",
       "      <th>2</th>\n",
       "      <td>d1mm9tcy42</td>\n",
       "      <td>lookup</td>\n",
       "      <td>NaN</td>\n",
       "      <td>NaN</td>\n",
       "      <td>Windows Desktop</td>\n",
       "      <td>301.0</td>\n",
       "    </tr>\n",
       "    <tr>\n",
       "      <th>3</th>\n",
       "      <td>d1mm9tcy42</td>\n",
       "      <td>search_results</td>\n",
       "      <td>click</td>\n",
       "      <td>view_search_results</td>\n",
       "      <td>Windows Desktop</td>\n",
       "      <td>22141.0</td>\n",
       "    </tr>\n",
       "    <tr>\n",
       "      <th>4</th>\n",
       "      <td>d1mm9tcy42</td>\n",
       "      <td>lookup</td>\n",
       "      <td>NaN</td>\n",
       "      <td>NaN</td>\n",
       "      <td>Windows Desktop</td>\n",
       "      <td>435.0</td>\n",
       "    </tr>\n",
       "  </tbody>\n",
       "</table>\n",
       "</div>"
      ],
      "text/plain": [
       "      user_id          action action_type        action_detail  \\\n",
       "0  d1mm9tcy42          lookup         NaN                  NaN   \n",
       "1  d1mm9tcy42  search_results       click  view_search_results   \n",
       "2  d1mm9tcy42          lookup         NaN                  NaN   \n",
       "3  d1mm9tcy42  search_results       click  view_search_results   \n",
       "4  d1mm9tcy42          lookup         NaN                  NaN   \n",
       "\n",
       "       device_type  secs_elapsed  \n",
       "0  Windows Desktop         319.0  \n",
       "1  Windows Desktop       67753.0  \n",
       "2  Windows Desktop         301.0  \n",
       "3  Windows Desktop       22141.0  \n",
       "4  Windows Desktop         435.0  "
      ]
     },
     "execution_count": 157,
     "metadata": {},
     "output_type": "execute_result"
    }
   ],
   "source": [
    "session.head()"
   ]
  },
  {
   "cell_type": "code",
   "execution_count": 173,
   "metadata": {},
   "outputs": [
    {
     "data": {
      "text/html": [
       "<div>\n",
       "<style scoped>\n",
       "    .dataframe tbody tr th:only-of-type {\n",
       "        vertical-align: middle;\n",
       "    }\n",
       "\n",
       "    .dataframe tbody tr th {\n",
       "        vertical-align: top;\n",
       "    }\n",
       "\n",
       "    .dataframe thead th {\n",
       "        text-align: right;\n",
       "    }\n",
       "</style>\n",
       "<table border=\"1\" class=\"dataframe\">\n",
       "  <thead>\n",
       "    <tr style=\"text-align: right;\">\n",
       "      <th></th>\n",
       "      <th>id</th>\n",
       "      <th>date_account_created</th>\n",
       "      <th>timestamp_first_active</th>\n",
       "      <th>date_first_booking</th>\n",
       "      <th>gender</th>\n",
       "      <th>age</th>\n",
       "      <th>signup_method</th>\n",
       "      <th>signup_flow</th>\n",
       "      <th>language</th>\n",
       "      <th>affiliate_channel</th>\n",
       "      <th>affiliate_provider</th>\n",
       "      <th>first_affiliate_tracked</th>\n",
       "      <th>signup_app</th>\n",
       "      <th>first_device_type</th>\n",
       "      <th>first_browser</th>\n",
       "      <th>country_destination</th>\n",
       "    </tr>\n",
       "  </thead>\n",
       "  <tbody>\n",
       "    <tr>\n",
       "      <th>0</th>\n",
       "      <td>gxn3p5htnn</td>\n",
       "      <td>2010-06-28</td>\n",
       "      <td>20090319043255</td>\n",
       "      <td>NaN</td>\n",
       "      <td>-unknown-</td>\n",
       "      <td>NaN</td>\n",
       "      <td>facebook</td>\n",
       "      <td>0</td>\n",
       "      <td>en</td>\n",
       "      <td>direct</td>\n",
       "      <td>direct</td>\n",
       "      <td>untracked</td>\n",
       "      <td>Web</td>\n",
       "      <td>Mac Desktop</td>\n",
       "      <td>Chrome</td>\n",
       "      <td>NDF</td>\n",
       "    </tr>\n",
       "    <tr>\n",
       "      <th>1</th>\n",
       "      <td>820tgsjxq7</td>\n",
       "      <td>2011-05-25</td>\n",
       "      <td>20090523174809</td>\n",
       "      <td>NaN</td>\n",
       "      <td>MALE</td>\n",
       "      <td>38.0</td>\n",
       "      <td>facebook</td>\n",
       "      <td>0</td>\n",
       "      <td>en</td>\n",
       "      <td>seo</td>\n",
       "      <td>google</td>\n",
       "      <td>untracked</td>\n",
       "      <td>Web</td>\n",
       "      <td>Mac Desktop</td>\n",
       "      <td>Chrome</td>\n",
       "      <td>NDF</td>\n",
       "    </tr>\n",
       "    <tr>\n",
       "      <th>2</th>\n",
       "      <td>4ft3gnwmtx</td>\n",
       "      <td>2010-09-28</td>\n",
       "      <td>20090609231247</td>\n",
       "      <td>2010-08-02</td>\n",
       "      <td>FEMALE</td>\n",
       "      <td>56.0</td>\n",
       "      <td>basic</td>\n",
       "      <td>3</td>\n",
       "      <td>en</td>\n",
       "      <td>direct</td>\n",
       "      <td>direct</td>\n",
       "      <td>untracked</td>\n",
       "      <td>Web</td>\n",
       "      <td>Windows Desktop</td>\n",
       "      <td>IE</td>\n",
       "      <td>US</td>\n",
       "    </tr>\n",
       "    <tr>\n",
       "      <th>3</th>\n",
       "      <td>bjjt8pjhuk</td>\n",
       "      <td>2011-12-05</td>\n",
       "      <td>20091031060129</td>\n",
       "      <td>2012-09-08</td>\n",
       "      <td>FEMALE</td>\n",
       "      <td>42.0</td>\n",
       "      <td>facebook</td>\n",
       "      <td>0</td>\n",
       "      <td>en</td>\n",
       "      <td>direct</td>\n",
       "      <td>direct</td>\n",
       "      <td>untracked</td>\n",
       "      <td>Web</td>\n",
       "      <td>Mac Desktop</td>\n",
       "      <td>Firefox</td>\n",
       "      <td>other</td>\n",
       "    </tr>\n",
       "    <tr>\n",
       "      <th>4</th>\n",
       "      <td>87mebub9p4</td>\n",
       "      <td>2010-09-14</td>\n",
       "      <td>20091208061105</td>\n",
       "      <td>2010-02-18</td>\n",
       "      <td>-unknown-</td>\n",
       "      <td>41.0</td>\n",
       "      <td>basic</td>\n",
       "      <td>0</td>\n",
       "      <td>en</td>\n",
       "      <td>direct</td>\n",
       "      <td>direct</td>\n",
       "      <td>untracked</td>\n",
       "      <td>Web</td>\n",
       "      <td>Mac Desktop</td>\n",
       "      <td>Chrome</td>\n",
       "      <td>US</td>\n",
       "    </tr>\n",
       "  </tbody>\n",
       "</table>\n",
       "</div>"
      ],
      "text/plain": [
       "           id date_account_created  timestamp_first_active date_first_booking  \\\n",
       "0  gxn3p5htnn           2010-06-28          20090319043255                NaN   \n",
       "1  820tgsjxq7           2011-05-25          20090523174809                NaN   \n",
       "2  4ft3gnwmtx           2010-09-28          20090609231247         2010-08-02   \n",
       "3  bjjt8pjhuk           2011-12-05          20091031060129         2012-09-08   \n",
       "4  87mebub9p4           2010-09-14          20091208061105         2010-02-18   \n",
       "\n",
       "      gender   age signup_method  signup_flow language affiliate_channel  \\\n",
       "0  -unknown-   NaN      facebook            0       en            direct   \n",
       "1       MALE  38.0      facebook            0       en               seo   \n",
       "2     FEMALE  56.0         basic            3       en            direct   \n",
       "3     FEMALE  42.0      facebook            0       en            direct   \n",
       "4  -unknown-  41.0         basic            0       en            direct   \n",
       "\n",
       "  affiliate_provider first_affiliate_tracked signup_app first_device_type  \\\n",
       "0             direct               untracked        Web       Mac Desktop   \n",
       "1             google               untracked        Web       Mac Desktop   \n",
       "2             direct               untracked        Web   Windows Desktop   \n",
       "3             direct               untracked        Web       Mac Desktop   \n",
       "4             direct               untracked        Web       Mac Desktop   \n",
       "\n",
       "  first_browser country_destination  \n",
       "0        Chrome                 NDF  \n",
       "1        Chrome                 NDF  \n",
       "2            IE                  US  \n",
       "3       Firefox               other  \n",
       "4        Chrome                  US  "
      ]
     },
     "execution_count": 173,
     "metadata": {},
     "output_type": "execute_result"
    }
   ],
   "source": [
    "df_train.head()"
   ]
  },
  {
   "cell_type": "code",
   "execution_count": 5,
   "metadata": {},
   "outputs": [],
   "source": [
    "import pandas as pd\n",
    "\n",
    "\n",
    "def calculate_pct(device_type_time, total_time):\n",
    "      return device_type_time/total_time if total_time > 0 else None\n",
    "      \n",
    "\n",
    "    \n",
    "        \n",
    "def get_user_device_type_time():\n",
    "\n",
    "    sessions = session\n",
    "    # sum up secs_elapsed time on each device_type for each user\n",
    "    device_type_time = pd.pivot_table(sessions, index=['user_id'], columns=['device_type'], values='secs_elapsed', aggfunc=sum, fill_value=0)\n",
    "    device_type_time.reset_index(inplace=True)\n",
    "    # sum up elapsed time on all the devices for each user\n",
    "    device_type_time['total_elapsed_time'] = device_type_time.sum(axis=1)\n",
    "    \n",
    "    # add attributes for usage percentage of each device type\n",
    "    device_columns = device_type_time.columns[1:-2]  # exclude first column: user_id and last column: total_elapsed_time\n",
    "    for column in device_columns:\n",
    "        device_type_time[column+'_pct'] = device_type_time.apply(lambda row: calculate_pct(row[column], row['total_elapsed_time']), axis=1)\n",
    "\n",
    "    return device_type_time\n",
    "\n",
    "\n",
    "def merge_user_and_session_data(user_df, user_device_type_time_df=None):\n",
    "\n",
    "    if not isinstance(user_device_type_time_df, pd.DataFrame):\n",
    "        user_device_type_time_df = get_user_device_type_time()\n",
    "\n",
    "    users_combined_df = pd.merge(user_df, user_device_type_time_df, left_on='id', right_on='user_id', how='left')\n",
    "    return users_combined_df\n",
    "\n",
    "\n",
    "\n",
    "train_users = df_train\n",
    "predict_users = df_test\n",
    "\n",
    "user_device_type_time_df = get_user_device_type_time()\n",
    "\n",
    "train_users_combined = merge_user_and_session_data(train_users, user_device_type_time_df)\n",
    "predict_users_combined = merge_user_and_session_data(predict_users, user_device_type_time_df)\n"
   ]
  },
  {
   "cell_type": "code",
   "execution_count": 6,
   "metadata": {},
   "outputs": [],
   "source": [
    "sess_id = session['user_id'].value_counts().index\n",
    "sess_ct = session['user_id'].value_counts().values"
   ]
  },
  {
   "cell_type": "code",
   "execution_count": 7,
   "metadata": {},
   "outputs": [],
   "source": [
    "columns = ['user','sess_count']\n",
    "df_sess = pd.DataFrame(columns=columns)"
   ]
  },
  {
   "cell_type": "code",
   "execution_count": 8,
   "metadata": {},
   "outputs": [],
   "source": [
    "df_sess['user'] = sess_id.tolist()"
   ]
  },
  {
   "cell_type": "code",
   "execution_count": 9,
   "metadata": {},
   "outputs": [],
   "source": [
    "df_sess['sess_count'] = sess_ct.tolist()"
   ]
  },
  {
   "cell_type": "code",
   "execution_count": 25,
   "metadata": {},
   "outputs": [
    {
     "data": {
      "text/html": [
       "<div>\n",
       "<style scoped>\n",
       "    .dataframe tbody tr th:only-of-type {\n",
       "        vertical-align: middle;\n",
       "    }\n",
       "\n",
       "    .dataframe tbody tr th {\n",
       "        vertical-align: top;\n",
       "    }\n",
       "\n",
       "    .dataframe thead th {\n",
       "        text-align: right;\n",
       "    }\n",
       "</style>\n",
       "<table border=\"1\" class=\"dataframe\">\n",
       "  <thead>\n",
       "    <tr style=\"text-align: right;\">\n",
       "      <th></th>\n",
       "      <th>user</th>\n",
       "      <th>sess_count</th>\n",
       "    </tr>\n",
       "  </thead>\n",
       "  <tbody>\n",
       "    <tr>\n",
       "      <th>0</th>\n",
       "      <td>mxqbh3ykxl</td>\n",
       "      <td>2722</td>\n",
       "    </tr>\n",
       "    <tr>\n",
       "      <th>1</th>\n",
       "      <td>0hjoc5q8nf</td>\n",
       "      <td>2644</td>\n",
       "    </tr>\n",
       "    <tr>\n",
       "      <th>2</th>\n",
       "      <td>mjbl6rrj52</td>\n",
       "      <td>2476</td>\n",
       "    </tr>\n",
       "    <tr>\n",
       "      <th>3</th>\n",
       "      <td>l5lgm3w5pc</td>\n",
       "      <td>2424</td>\n",
       "    </tr>\n",
       "    <tr>\n",
       "      <th>4</th>\n",
       "      <td>wg9413iaux</td>\n",
       "      <td>2362</td>\n",
       "    </tr>\n",
       "  </tbody>\n",
       "</table>\n",
       "</div>"
      ],
      "text/plain": [
       "         user  sess_count\n",
       "0  mxqbh3ykxl        2722\n",
       "1  0hjoc5q8nf        2644\n",
       "2  mjbl6rrj52        2476\n",
       "3  l5lgm3w5pc        2424\n",
       "4  wg9413iaux        2362"
      ]
     },
     "execution_count": 25,
     "metadata": {},
     "output_type": "execute_result"
    }
   ],
   "source": [
    "df_sess.head()"
   ]
  },
  {
   "cell_type": "code",
   "execution_count": 10,
   "metadata": {},
   "outputs": [],
   "source": [
    "\n",
    "train_users_combined = pd.merge(train_users_combined, df_sess, left_on='id', right_on='user', how='left')\n",
    "\n",
    "\n"
   ]
  },
  {
   "cell_type": "code",
   "execution_count": 11,
   "metadata": {},
   "outputs": [
    {
     "data": {
      "text/html": [
       "<div>\n",
       "<style scoped>\n",
       "    .dataframe tbody tr th:only-of-type {\n",
       "        vertical-align: middle;\n",
       "    }\n",
       "\n",
       "    .dataframe tbody tr th {\n",
       "        vertical-align: top;\n",
       "    }\n",
       "\n",
       "    .dataframe thead th {\n",
       "        text-align: right;\n",
       "    }\n",
       "</style>\n",
       "<table border=\"1\" class=\"dataframe\">\n",
       "  <thead>\n",
       "    <tr style=\"text-align: right;\">\n",
       "      <th></th>\n",
       "      <th>timestamp_first_active</th>\n",
       "      <th>age</th>\n",
       "      <th>signup_flow</th>\n",
       "      <th>-unknown-</th>\n",
       "      <th>Android App Unknown Phone/Tablet</th>\n",
       "      <th>Android Phone</th>\n",
       "      <th>Blackberry</th>\n",
       "      <th>Chromebook</th>\n",
       "      <th>Linux Desktop</th>\n",
       "      <th>Mac Desktop</th>\n",
       "      <th>...</th>\n",
       "      <th>Chromebook_pct</th>\n",
       "      <th>Linux Desktop_pct</th>\n",
       "      <th>Mac Desktop_pct</th>\n",
       "      <th>Opera Phone_pct</th>\n",
       "      <th>Tablet_pct</th>\n",
       "      <th>Windows Desktop_pct</th>\n",
       "      <th>Windows Phone_pct</th>\n",
       "      <th>iPad Tablet_pct</th>\n",
       "      <th>iPhone_pct</th>\n",
       "      <th>sess_count</th>\n",
       "    </tr>\n",
       "  </thead>\n",
       "  <tbody>\n",
       "    <tr>\n",
       "      <th>count</th>\n",
       "      <td>2.134510e+05</td>\n",
       "      <td>125461.000000</td>\n",
       "      <td>213451.000000</td>\n",
       "      <td>7.381500e+04</td>\n",
       "      <td>7.381500e+04</td>\n",
       "      <td>7.381500e+04</td>\n",
       "      <td>7.381500e+04</td>\n",
       "      <td>7.381500e+04</td>\n",
       "      <td>7.381500e+04</td>\n",
       "      <td>7.381500e+04</td>\n",
       "      <td>...</td>\n",
       "      <td>72580.000000</td>\n",
       "      <td>72580.000000</td>\n",
       "      <td>72580.00000</td>\n",
       "      <td>72580.000000</td>\n",
       "      <td>72580.000000</td>\n",
       "      <td>72580.000000</td>\n",
       "      <td>72580.000000</td>\n",
       "      <td>72580.000000</td>\n",
       "      <td>72580.000000</td>\n",
       "      <td>73815.000000</td>\n",
       "    </tr>\n",
       "    <tr>\n",
       "      <th>mean</th>\n",
       "      <td>2.013085e+13</td>\n",
       "      <td>49.668335</td>\n",
       "      <td>3.267387</td>\n",
       "      <td>3.911019e+04</td>\n",
       "      <td>4.761671e+04</td>\n",
       "      <td>3.935960e+04</td>\n",
       "      <td>2.741672e+02</td>\n",
       "      <td>4.322756e+03</td>\n",
       "      <td>5.699082e+03</td>\n",
       "      <td>5.822394e+05</td>\n",
       "      <td>...</td>\n",
       "      <td>0.002904</td>\n",
       "      <td>0.003654</td>\n",
       "      <td>0.36037</td>\n",
       "      <td>0.000001</td>\n",
       "      <td>0.008867</td>\n",
       "      <td>0.301834</td>\n",
       "      <td>0.000177</td>\n",
       "      <td>0.067849</td>\n",
       "      <td>0.148475</td>\n",
       "      <td>75.024819</td>\n",
       "    </tr>\n",
       "    <tr>\n",
       "      <th>std</th>\n",
       "      <td>9.253717e+09</td>\n",
       "      <td>155.666612</td>\n",
       "      <td>7.637707</td>\n",
       "      <td>2.522812e+05</td>\n",
       "      <td>3.874815e+05</td>\n",
       "      <td>3.365949e+05</td>\n",
       "      <td>1.805119e+04</td>\n",
       "      <td>1.226531e+05</td>\n",
       "      <td>1.290085e+05</td>\n",
       "      <td>1.352050e+06</td>\n",
       "      <td>...</td>\n",
       "      <td>0.052254</td>\n",
       "      <td>0.058001</td>\n",
       "      <td>0.46724</td>\n",
       "      <td>0.000279</td>\n",
       "      <td>0.090581</td>\n",
       "      <td>0.446353</td>\n",
       "      <td>0.010810</td>\n",
       "      <td>0.242728</td>\n",
       "      <td>0.337453</td>\n",
       "      <td>112.543174</td>\n",
       "    </tr>\n",
       "    <tr>\n",
       "      <th>min</th>\n",
       "      <td>2.009032e+13</td>\n",
       "      <td>1.000000</td>\n",
       "      <td>0.000000</td>\n",
       "      <td>0.000000e+00</td>\n",
       "      <td>0.000000e+00</td>\n",
       "      <td>0.000000e+00</td>\n",
       "      <td>0.000000e+00</td>\n",
       "      <td>0.000000e+00</td>\n",
       "      <td>0.000000e+00</td>\n",
       "      <td>0.000000e+00</td>\n",
       "      <td>...</td>\n",
       "      <td>0.000000</td>\n",
       "      <td>0.000000</td>\n",
       "      <td>0.00000</td>\n",
       "      <td>0.000000</td>\n",
       "      <td>0.000000</td>\n",
       "      <td>0.000000</td>\n",
       "      <td>0.000000</td>\n",
       "      <td>0.000000</td>\n",
       "      <td>0.000000</td>\n",
       "      <td>1.000000</td>\n",
       "    </tr>\n",
       "    <tr>\n",
       "      <th>25%</th>\n",
       "      <td>2.012123e+13</td>\n",
       "      <td>28.000000</td>\n",
       "      <td>0.000000</td>\n",
       "      <td>0.000000e+00</td>\n",
       "      <td>0.000000e+00</td>\n",
       "      <td>0.000000e+00</td>\n",
       "      <td>0.000000e+00</td>\n",
       "      <td>0.000000e+00</td>\n",
       "      <td>0.000000e+00</td>\n",
       "      <td>0.000000e+00</td>\n",
       "      <td>...</td>\n",
       "      <td>0.000000</td>\n",
       "      <td>0.000000</td>\n",
       "      <td>0.00000</td>\n",
       "      <td>0.000000</td>\n",
       "      <td>0.000000</td>\n",
       "      <td>0.000000</td>\n",
       "      <td>0.000000</td>\n",
       "      <td>0.000000</td>\n",
       "      <td>0.000000</td>\n",
       "      <td>13.000000</td>\n",
       "    </tr>\n",
       "    <tr>\n",
       "      <th>50%</th>\n",
       "      <td>2.013091e+13</td>\n",
       "      <td>34.000000</td>\n",
       "      <td>0.000000</td>\n",
       "      <td>0.000000e+00</td>\n",
       "      <td>0.000000e+00</td>\n",
       "      <td>0.000000e+00</td>\n",
       "      <td>0.000000e+00</td>\n",
       "      <td>0.000000e+00</td>\n",
       "      <td>0.000000e+00</td>\n",
       "      <td>0.000000e+00</td>\n",
       "      <td>...</td>\n",
       "      <td>0.000000</td>\n",
       "      <td>0.000000</td>\n",
       "      <td>0.00000</td>\n",
       "      <td>0.000000</td>\n",
       "      <td>0.000000</td>\n",
       "      <td>0.000000</td>\n",
       "      <td>0.000000</td>\n",
       "      <td>0.000000</td>\n",
       "      <td>0.000000</td>\n",
       "      <td>38.000000</td>\n",
       "    </tr>\n",
       "    <tr>\n",
       "      <th>75%</th>\n",
       "      <td>2.014031e+13</td>\n",
       "      <td>43.000000</td>\n",
       "      <td>0.000000</td>\n",
       "      <td>0.000000e+00</td>\n",
       "      <td>0.000000e+00</td>\n",
       "      <td>0.000000e+00</td>\n",
       "      <td>0.000000e+00</td>\n",
       "      <td>0.000000e+00</td>\n",
       "      <td>0.000000e+00</td>\n",
       "      <td>5.131850e+05</td>\n",
       "      <td>...</td>\n",
       "      <td>0.000000</td>\n",
       "      <td>0.000000</td>\n",
       "      <td>1.00000</td>\n",
       "      <td>0.000000</td>\n",
       "      <td>0.000000</td>\n",
       "      <td>0.984409</td>\n",
       "      <td>0.000000</td>\n",
       "      <td>0.000000</td>\n",
       "      <td>0.000000</td>\n",
       "      <td>91.000000</td>\n",
       "    </tr>\n",
       "    <tr>\n",
       "      <th>max</th>\n",
       "      <td>2.014063e+13</td>\n",
       "      <td>2014.000000</td>\n",
       "      <td>25.000000</td>\n",
       "      <td>9.589634e+06</td>\n",
       "      <td>1.671504e+07</td>\n",
       "      <td>1.669245e+07</td>\n",
       "      <td>2.923673e+06</td>\n",
       "      <td>1.745477e+07</td>\n",
       "      <td>1.135626e+07</td>\n",
       "      <td>3.123487e+07</td>\n",
       "      <td>...</td>\n",
       "      <td>1.000000</td>\n",
       "      <td>1.000000</td>\n",
       "      <td>1.00000</td>\n",
       "      <td>0.075119</td>\n",
       "      <td>1.000000</td>\n",
       "      <td>1.000000</td>\n",
       "      <td>1.000000</td>\n",
       "      <td>1.000000</td>\n",
       "      <td>1.000000</td>\n",
       "      <td>2644.000000</td>\n",
       "    </tr>\n",
       "  </tbody>\n",
       "</table>\n",
       "<p>8 rows × 32 columns</p>\n",
       "</div>"
      ],
      "text/plain": [
       "       timestamp_first_active            age    signup_flow     -unknown-  \\\n",
       "count            2.134510e+05  125461.000000  213451.000000  7.381500e+04   \n",
       "mean             2.013085e+13      49.668335       3.267387  3.911019e+04   \n",
       "std              9.253717e+09     155.666612       7.637707  2.522812e+05   \n",
       "min              2.009032e+13       1.000000       0.000000  0.000000e+00   \n",
       "25%              2.012123e+13      28.000000       0.000000  0.000000e+00   \n",
       "50%              2.013091e+13      34.000000       0.000000  0.000000e+00   \n",
       "75%              2.014031e+13      43.000000       0.000000  0.000000e+00   \n",
       "max              2.014063e+13    2014.000000      25.000000  9.589634e+06   \n",
       "\n",
       "       Android App Unknown Phone/Tablet  Android Phone    Blackberry  \\\n",
       "count                      7.381500e+04   7.381500e+04  7.381500e+04   \n",
       "mean                       4.761671e+04   3.935960e+04  2.741672e+02   \n",
       "std                        3.874815e+05   3.365949e+05  1.805119e+04   \n",
       "min                        0.000000e+00   0.000000e+00  0.000000e+00   \n",
       "25%                        0.000000e+00   0.000000e+00  0.000000e+00   \n",
       "50%                        0.000000e+00   0.000000e+00  0.000000e+00   \n",
       "75%                        0.000000e+00   0.000000e+00  0.000000e+00   \n",
       "max                        1.671504e+07   1.669245e+07  2.923673e+06   \n",
       "\n",
       "         Chromebook  Linux Desktop   Mac Desktop  ...  Chromebook_pct  \\\n",
       "count  7.381500e+04   7.381500e+04  7.381500e+04  ...    72580.000000   \n",
       "mean   4.322756e+03   5.699082e+03  5.822394e+05  ...        0.002904   \n",
       "std    1.226531e+05   1.290085e+05  1.352050e+06  ...        0.052254   \n",
       "min    0.000000e+00   0.000000e+00  0.000000e+00  ...        0.000000   \n",
       "25%    0.000000e+00   0.000000e+00  0.000000e+00  ...        0.000000   \n",
       "50%    0.000000e+00   0.000000e+00  0.000000e+00  ...        0.000000   \n",
       "75%    0.000000e+00   0.000000e+00  5.131850e+05  ...        0.000000   \n",
       "max    1.745477e+07   1.135626e+07  3.123487e+07  ...        1.000000   \n",
       "\n",
       "       Linux Desktop_pct  Mac Desktop_pct  Opera Phone_pct    Tablet_pct  \\\n",
       "count       72580.000000      72580.00000     72580.000000  72580.000000   \n",
       "mean            0.003654          0.36037         0.000001      0.008867   \n",
       "std             0.058001          0.46724         0.000279      0.090581   \n",
       "min             0.000000          0.00000         0.000000      0.000000   \n",
       "25%             0.000000          0.00000         0.000000      0.000000   \n",
       "50%             0.000000          0.00000         0.000000      0.000000   \n",
       "75%             0.000000          1.00000         0.000000      0.000000   \n",
       "max             1.000000          1.00000         0.075119      1.000000   \n",
       "\n",
       "       Windows Desktop_pct  Windows Phone_pct  iPad Tablet_pct    iPhone_pct  \\\n",
       "count         72580.000000       72580.000000     72580.000000  72580.000000   \n",
       "mean              0.301834           0.000177         0.067849      0.148475   \n",
       "std               0.446353           0.010810         0.242728      0.337453   \n",
       "min               0.000000           0.000000         0.000000      0.000000   \n",
       "25%               0.000000           0.000000         0.000000      0.000000   \n",
       "50%               0.000000           0.000000         0.000000      0.000000   \n",
       "75%               0.984409           0.000000         0.000000      0.000000   \n",
       "max               1.000000           1.000000         1.000000      1.000000   \n",
       "\n",
       "         sess_count  \n",
       "count  73815.000000  \n",
       "mean      75.024819  \n",
       "std      112.543174  \n",
       "min        1.000000  \n",
       "25%       13.000000  \n",
       "50%       38.000000  \n",
       "75%       91.000000  \n",
       "max     2644.000000  \n",
       "\n",
       "[8 rows x 32 columns]"
      ]
     },
     "execution_count": 11,
     "metadata": {},
     "output_type": "execute_result"
    }
   ],
   "source": [
    "train_users_combined.describe()"
   ]
  },
  {
   "cell_type": "markdown",
   "metadata": {},
   "source": [
    "## 1. total_elapsed_time 계산 및 분포 확인(유저 총 세션 시간에 관하여)"
   ]
  },
  {
   "cell_type": "code",
   "execution_count": 7,
   "metadata": {},
   "outputs": [],
   "source": [
    "import numpy as np\n",
    "import pandas as pd\n",
    "import matplotlib.pyplot as plt\n",
    "import seaborn as sns\n"
   ]
  },
  {
   "cell_type": "markdown",
   "metadata": {},
   "source": [
    "### right-skewed graph"
   ]
  },
  {
   "cell_type": "code",
   "execution_count": 8,
   "metadata": {},
   "outputs": [
    {
     "data": {
      "text/plain": [
       "<matplotlib.axes._subplots.AxesSubplot at 0x2f295bbc048>"
      ]
     },
     "execution_count": 8,
     "metadata": {},
     "output_type": "execute_result"
    },
    {
     "data": {
      "image/png": "[encoded data removed]",
      "text/plain": [
       "<Figure size 432x288 with 1 Axes>"
      ]
     },
     "metadata": {
      "needs_background": "light"
     },
     "output_type": "display_data"
    }
   ],
   "source": [
    "sns.distplot(user_device_type_time_df['total_elapsed_time'])"
   ]
  },
  {
   "cell_type": "code",
   "execution_count": 11,
   "metadata": {},
   "outputs": [
    {
     "data": {
      "text/plain": [
       "<matplotlib.axes._subplots.AxesSubplot at 0x2f2802e5518>"
      ]
     },
     "execution_count": 11,
     "metadata": {},
     "output_type": "execute_result"
    },
    {
     "data": {
      "image/png": "[encoded data removed]",
      "text/plain": [
       "<Figure size 432x288 with 1 Axes>"
      ]
     },
     "metadata": {
      "needs_background": "light"
     },
     "output_type": "display_data"
    }
   ],
   "source": [
    "sns.violinplot(user_device_type_time_df['total_elapsed_time'])"
   ]
  },
  {
   "cell_type": "markdown",
   "metadata": {},
   "source": [
    "### Session data 없는 유저들 일단 버리기(20만개 데이터 중 7만개 남음)"
   ]
  },
  {
   "cell_type": "code",
   "execution_count": 11,
   "metadata": {},
   "outputs": [],
   "source": [
    "train_users_combined = train_users_combined.dropna(subset=['total_elapsed_time'], how='all')"
   ]
  },
  {
   "cell_type": "code",
   "execution_count": 12,
   "metadata": {},
   "outputs": [],
   "source": [
    "sec = train_users_combined"
   ]
  },
  {
   "cell_type": "markdown",
   "metadata": {},
   "source": [
    "### total_sec_elapsed 짧은 유저들 지정하기. (평균, 중간값 고려)"
   ]
  },
  {
   "cell_type": "code",
   "execution_count": 13,
   "metadata": {},
   "outputs": [],
   "source": [
    "def calculate_sec(x):\n",
    "    if x<200000:\n",
    "        return 1\n",
    "    else:\n",
    "        return 0"
   ]
  },
  {
   "cell_type": "code",
   "execution_count": 14,
   "metadata": {
    "scrolled": true
   },
   "outputs": [],
   "source": [
    "sec['short_users'] = sec.apply(lambda x: calculate_sec(x['total_elapsed_time']),axis=1)"
   ]
  },
  {
   "cell_type": "code",
   "execution_count": 15,
   "metadata": {},
   "outputs": [
    {
     "data": {
      "text/html": [
       "<div>\n",
       "<style scoped>\n",
       "    .dataframe tbody tr th:only-of-type {\n",
       "        vertical-align: middle;\n",
       "    }\n",
       "\n",
       "    .dataframe tbody tr th {\n",
       "        vertical-align: top;\n",
       "    }\n",
       "\n",
       "    .dataframe thead th {\n",
       "        text-align: right;\n",
       "    }\n",
       "</style>\n",
       "<table border=\"1\" class=\"dataframe\">\n",
       "  <thead>\n",
       "    <tr style=\"text-align: right;\">\n",
       "      <th></th>\n",
       "      <th>timestamp_first_active</th>\n",
       "      <th>age</th>\n",
       "      <th>signup_flow</th>\n",
       "      <th>-unknown-</th>\n",
       "      <th>Android App Unknown Phone/Tablet</th>\n",
       "      <th>Android Phone</th>\n",
       "      <th>Blackberry</th>\n",
       "      <th>Chromebook</th>\n",
       "      <th>Linux Desktop</th>\n",
       "      <th>Mac Desktop</th>\n",
       "      <th>...</th>\n",
       "      <th>Linux Desktop_pct</th>\n",
       "      <th>Mac Desktop_pct</th>\n",
       "      <th>Opera Phone_pct</th>\n",
       "      <th>Tablet_pct</th>\n",
       "      <th>Windows Desktop_pct</th>\n",
       "      <th>Windows Phone_pct</th>\n",
       "      <th>iPad Tablet_pct</th>\n",
       "      <th>iPhone_pct</th>\n",
       "      <th>sess_count</th>\n",
       "      <th>short_users</th>\n",
       "    </tr>\n",
       "  </thead>\n",
       "  <tbody>\n",
       "    <tr>\n",
       "      <th>count</th>\n",
       "      <td>1.607100e+04</td>\n",
       "      <td>8301.00000</td>\n",
       "      <td>16071.000000</td>\n",
       "      <td>16071.000000</td>\n",
       "      <td>16071.000000</td>\n",
       "      <td>16071.000000</td>\n",
       "      <td>16071.000000</td>\n",
       "      <td>16071.000000</td>\n",
       "      <td>16071.000000</td>\n",
       "      <td>16071.000000</td>\n",
       "      <td>...</td>\n",
       "      <td>14836.000000</td>\n",
       "      <td>14836.000000</td>\n",
       "      <td>14836.0</td>\n",
       "      <td>14836.000000</td>\n",
       "      <td>14836.000000</td>\n",
       "      <td>14836.000000</td>\n",
       "      <td>14836.000000</td>\n",
       "      <td>14836.000000</td>\n",
       "      <td>16071.000000</td>\n",
       "      <td>16071.0</td>\n",
       "    </tr>\n",
       "    <tr>\n",
       "      <th>mean</th>\n",
       "      <td>2.014038e+13</td>\n",
       "      <td>37.97687</td>\n",
       "      <td>6.048535</td>\n",
       "      <td>2423.297741</td>\n",
       "      <td>2655.154315</td>\n",
       "      <td>2186.956132</td>\n",
       "      <td>26.849045</td>\n",
       "      <td>157.231660</td>\n",
       "      <td>183.435007</td>\n",
       "      <td>20356.129177</td>\n",
       "      <td>...</td>\n",
       "      <td>0.003425</td>\n",
       "      <td>0.326955</td>\n",
       "      <td>0.0</td>\n",
       "      <td>0.008005</td>\n",
       "      <td>0.299926</td>\n",
       "      <td>0.000175</td>\n",
       "      <td>0.060768</td>\n",
       "      <td>0.138141</td>\n",
       "      <td>9.180947</td>\n",
       "      <td>1.0</td>\n",
       "    </tr>\n",
       "    <tr>\n",
       "      <th>std</th>\n",
       "      <td>1.728593e+08</td>\n",
       "      <td>71.87913</td>\n",
       "      <td>9.800544</td>\n",
       "      <td>15617.939058</td>\n",
       "      <td>18252.495188</td>\n",
       "      <td>16178.377548</td>\n",
       "      <td>1766.762525</td>\n",
       "      <td>4273.931857</td>\n",
       "      <td>4454.917159</td>\n",
       "      <td>45449.911496</td>\n",
       "      <td>...</td>\n",
       "      <td>0.057718</td>\n",
       "      <td>0.466482</td>\n",
       "      <td>0.0</td>\n",
       "      <td>0.088724</td>\n",
       "      <td>0.455870</td>\n",
       "      <td>0.012400</td>\n",
       "      <td>0.237835</td>\n",
       "      <td>0.339184</td>\n",
       "      <td>8.998174</td>\n",
       "      <td>0.0</td>\n",
       "    </tr>\n",
       "    <tr>\n",
       "      <th>min</th>\n",
       "      <td>2.014010e+13</td>\n",
       "      <td>2.00000</td>\n",
       "      <td>0.000000</td>\n",
       "      <td>0.000000</td>\n",
       "      <td>0.000000</td>\n",
       "      <td>0.000000</td>\n",
       "      <td>0.000000</td>\n",
       "      <td>0.000000</td>\n",
       "      <td>0.000000</td>\n",
       "      <td>0.000000</td>\n",
       "      <td>...</td>\n",
       "      <td>0.000000</td>\n",
       "      <td>0.000000</td>\n",
       "      <td>0.0</td>\n",
       "      <td>0.000000</td>\n",
       "      <td>0.000000</td>\n",
       "      <td>0.000000</td>\n",
       "      <td>0.000000</td>\n",
       "      <td>0.000000</td>\n",
       "      <td>1.000000</td>\n",
       "      <td>1.0</td>\n",
       "    </tr>\n",
       "    <tr>\n",
       "      <th>25%</th>\n",
       "      <td>2.014022e+13</td>\n",
       "      <td>27.00000</td>\n",
       "      <td>0.000000</td>\n",
       "      <td>0.000000</td>\n",
       "      <td>0.000000</td>\n",
       "      <td>0.000000</td>\n",
       "      <td>0.000000</td>\n",
       "      <td>0.000000</td>\n",
       "      <td>0.000000</td>\n",
       "      <td>0.000000</td>\n",
       "      <td>...</td>\n",
       "      <td>0.000000</td>\n",
       "      <td>0.000000</td>\n",
       "      <td>0.0</td>\n",
       "      <td>0.000000</td>\n",
       "      <td>0.000000</td>\n",
       "      <td>0.000000</td>\n",
       "      <td>0.000000</td>\n",
       "      <td>0.000000</td>\n",
       "      <td>3.000000</td>\n",
       "      <td>1.0</td>\n",
       "    </tr>\n",
       "    <tr>\n",
       "      <th>50%</th>\n",
       "      <td>2.014041e+13</td>\n",
       "      <td>32.00000</td>\n",
       "      <td>0.000000</td>\n",
       "      <td>0.000000</td>\n",
       "      <td>0.000000</td>\n",
       "      <td>0.000000</td>\n",
       "      <td>0.000000</td>\n",
       "      <td>0.000000</td>\n",
       "      <td>0.000000</td>\n",
       "      <td>0.000000</td>\n",
       "      <td>...</td>\n",
       "      <td>0.000000</td>\n",
       "      <td>0.000000</td>\n",
       "      <td>0.0</td>\n",
       "      <td>0.000000</td>\n",
       "      <td>0.000000</td>\n",
       "      <td>0.000000</td>\n",
       "      <td>0.000000</td>\n",
       "      <td>0.000000</td>\n",
       "      <td>6.000000</td>\n",
       "      <td>1.0</td>\n",
       "    </tr>\n",
       "    <tr>\n",
       "      <th>75%</th>\n",
       "      <td>2.014052e+13</td>\n",
       "      <td>40.00000</td>\n",
       "      <td>12.000000</td>\n",
       "      <td>0.000000</td>\n",
       "      <td>0.000000</td>\n",
       "      <td>0.000000</td>\n",
       "      <td>0.000000</td>\n",
       "      <td>0.000000</td>\n",
       "      <td>0.000000</td>\n",
       "      <td>3711.500000</td>\n",
       "      <td>...</td>\n",
       "      <td>0.000000</td>\n",
       "      <td>1.000000</td>\n",
       "      <td>0.0</td>\n",
       "      <td>0.000000</td>\n",
       "      <td>1.000000</td>\n",
       "      <td>0.000000</td>\n",
       "      <td>0.000000</td>\n",
       "      <td>0.000000</td>\n",
       "      <td>12.000000</td>\n",
       "      <td>1.0</td>\n",
       "    </tr>\n",
       "    <tr>\n",
       "      <th>max</th>\n",
       "      <td>2.014063e+13</td>\n",
       "      <td>2014.00000</td>\n",
       "      <td>25.000000</td>\n",
       "      <td>196206.000000</td>\n",
       "      <td>199995.000000</td>\n",
       "      <td>199430.000000</td>\n",
       "      <td>153041.000000</td>\n",
       "      <td>193034.000000</td>\n",
       "      <td>187191.000000</td>\n",
       "      <td>199976.000000</td>\n",
       "      <td>...</td>\n",
       "      <td>1.000000</td>\n",
       "      <td>1.000000</td>\n",
       "      <td>0.0</td>\n",
       "      <td>1.000000</td>\n",
       "      <td>1.000000</td>\n",
       "      <td>1.000000</td>\n",
       "      <td>1.000000</td>\n",
       "      <td>1.000000</td>\n",
       "      <td>124.000000</td>\n",
       "      <td>1.0</td>\n",
       "    </tr>\n",
       "  </tbody>\n",
       "</table>\n",
       "<p>8 rows × 33 columns</p>\n",
       "</div>"
      ],
      "text/plain": [
       "       timestamp_first_active         age   signup_flow      -unknown-  \\\n",
       "count            1.607100e+04  8301.00000  16071.000000   16071.000000   \n",
       "mean             2.014038e+13    37.97687      6.048535    2423.297741   \n",
       "std              1.728593e+08    71.87913      9.800544   15617.939058   \n",
       "min              2.014010e+13     2.00000      0.000000       0.000000   \n",
       "25%              2.014022e+13    27.00000      0.000000       0.000000   \n",
       "50%              2.014041e+13    32.00000      0.000000       0.000000   \n",
       "75%              2.014052e+13    40.00000     12.000000       0.000000   \n",
       "max              2.014063e+13  2014.00000     25.000000  196206.000000   \n",
       "\n",
       "       Android App Unknown Phone/Tablet  Android Phone     Blackberry  \\\n",
       "count                      16071.000000   16071.000000   16071.000000   \n",
       "mean                        2655.154315    2186.956132      26.849045   \n",
       "std                        18252.495188   16178.377548    1766.762525   \n",
       "min                            0.000000       0.000000       0.000000   \n",
       "25%                            0.000000       0.000000       0.000000   \n",
       "50%                            0.000000       0.000000       0.000000   \n",
       "75%                            0.000000       0.000000       0.000000   \n",
       "max                       199995.000000  199430.000000  153041.000000   \n",
       "\n",
       "          Chromebook  Linux Desktop    Mac Desktop  ...  Linux Desktop_pct  \\\n",
       "count   16071.000000   16071.000000   16071.000000  ...       14836.000000   \n",
       "mean      157.231660     183.435007   20356.129177  ...           0.003425   \n",
       "std      4273.931857    4454.917159   45449.911496  ...           0.057718   \n",
       "min         0.000000       0.000000       0.000000  ...           0.000000   \n",
       "25%         0.000000       0.000000       0.000000  ...           0.000000   \n",
       "50%         0.000000       0.000000       0.000000  ...           0.000000   \n",
       "75%         0.000000       0.000000    3711.500000  ...           0.000000   \n",
       "max    193034.000000  187191.000000  199976.000000  ...           1.000000   \n",
       "\n",
       "       Mac Desktop_pct  Opera Phone_pct    Tablet_pct  Windows Desktop_pct  \\\n",
       "count     14836.000000          14836.0  14836.000000         14836.000000   \n",
       "mean          0.326955              0.0      0.008005             0.299926   \n",
       "std           0.466482              0.0      0.088724             0.455870   \n",
       "min           0.000000              0.0      0.000000             0.000000   \n",
       "25%           0.000000              0.0      0.000000             0.000000   \n",
       "50%           0.000000              0.0      0.000000             0.000000   \n",
       "75%           1.000000              0.0      0.000000             1.000000   \n",
       "max           1.000000              0.0      1.000000             1.000000   \n",
       "\n",
       "       Windows Phone_pct  iPad Tablet_pct    iPhone_pct    sess_count  \\\n",
       "count       14836.000000     14836.000000  14836.000000  16071.000000   \n",
       "mean            0.000175         0.060768      0.138141      9.180947   \n",
       "std             0.012400         0.237835      0.339184      8.998174   \n",
       "min             0.000000         0.000000      0.000000      1.000000   \n",
       "25%             0.000000         0.000000      0.000000      3.000000   \n",
       "50%             0.000000         0.000000      0.000000      6.000000   \n",
       "75%             0.000000         0.000000      0.000000     12.000000   \n",
       "max             1.000000         1.000000      1.000000    124.000000   \n",
       "\n",
       "       short_users  \n",
       "count      16071.0  \n",
       "mean           1.0  \n",
       "std            0.0  \n",
       "min            1.0  \n",
       "25%            1.0  \n",
       "50%            1.0  \n",
       "75%            1.0  \n",
       "max            1.0  \n",
       "\n",
       "[8 rows x 33 columns]"
      ]
     },
     "execution_count": 15,
     "metadata": {},
     "output_type": "execute_result"
    }
   ],
   "source": [
    "sec[sec['short_users']==1].describe()"
   ]
  },
  {
   "cell_type": "markdown",
   "metadata": {},
   "source": [
    "## 2. 모바일 기기들의 사용률을 합쳐서 총 모바일 사용 퍼센테이지 계산"
   ]
  },
  {
   "cell_type": "code",
   "execution_count": 16,
   "metadata": {},
   "outputs": [],
   "source": [
    "def calculate_total_mobile(x):\n",
    "    return x['Android App Unknown Phone/Tablet_pct']+x['Android Phone_pct']+x['Blackberry_pct']+x['Opera Phone_pct']+x['Tablet_pct']+x['Windows Phone_pct']+x['iPad Tablet_pct']+x['iPhone_pct']"
   ]
  },
  {
   "cell_type": "code",
   "execution_count": 17,
   "metadata": {
    "scrolled": true
   },
   "outputs": [],
   "source": [
    "sec['mobile_total'] = sec.apply(calculate_total_mobile,axis=1)"
   ]
  },
  {
   "cell_type": "code",
   "execution_count": 49,
   "metadata": {},
   "outputs": [],
   "source": [
    "secs = sec.dropna(subset=['mobile_total'], how='all')"
   ]
  },
  {
   "cell_type": "code",
   "execution_count": 51,
   "metadata": {},
   "outputs": [
    {
     "data": {
      "text/plain": [
       "<matplotlib.axes._subplots.AxesSubplot at 0x21c0adff748>"
      ]
     },
     "execution_count": 51,
     "metadata": {},
     "output_type": "execute_result"
    },
    {
     "data": {
      "image/png": "[encoded data removed]",
      "text/plain": [
       "<Figure size 432x288 with 1 Axes>"
      ]
     },
     "metadata": {
      "needs_background": "light"
     },
     "output_type": "display_data"
    }
   ],
   "source": [
    "sns.distplot(secs['mobile_total'])"
   ]
  },
  {
   "cell_type": "code",
   "execution_count": 22,
   "metadata": {
    "scrolled": true
   },
   "outputs": [
    {
     "data": {
      "text/plain": [
       "count    72580.000000\n",
       "mean         0.288362\n",
       "std          0.433181\n",
       "min          0.000000\n",
       "25%          0.000000\n",
       "50%          0.000000\n",
       "75%          0.914156\n",
       "max          1.000000\n",
       "Name: mobile_total, dtype: float64"
      ]
     },
     "execution_count": 22,
     "metadata": {},
     "output_type": "execute_result"
    }
   ],
   "source": [
    "sec['mobile_total'].describe()"
   ]
  },
  {
   "cell_type": "code",
   "execution_count": 23,
   "metadata": {},
   "outputs": [
    {
     "data": {
      "text/plain": [
       "count    72580.000000\n",
       "mean         0.288362\n",
       "std          0.433181\n",
       "min          0.000000\n",
       "25%          0.000000\n",
       "50%          0.000000\n",
       "75%          0.914156\n",
       "max          1.000000\n",
       "Name: mobile_total, dtype: float64"
      ]
     },
     "execution_count": 23,
     "metadata": {},
     "output_type": "execute_result"
    }
   ],
   "source": [
    "secs['mobile_total'].describe()"
   ]
  },
  {
   "cell_type": "markdown",
   "metadata": {},
   "source": [
    "### 모바일 사용률 통해 그룹 나누기"
   ]
  },
  {
   "cell_type": "code",
   "execution_count": 18,
   "metadata": {},
   "outputs": [],
   "source": [
    "def calculate_fr(x):\n",
    "    if x<0.1:\n",
    "        return \"not_frequent\"\n",
    "    elif x>0.9:\n",
    "        return \"frequent\"\n",
    "    else:\n",
    "        return \"middle\""
   ]
  },
  {
   "cell_type": "code",
   "execution_count": 19,
   "metadata": {
    "scrolled": true
   },
   "outputs": [],
   "source": [
    "sec['mobile_frequent_users'] = sec.apply(lambda x: calculate_fr(x['mobile_total']),axis=1)"
   ]
  },
  {
   "cell_type": "markdown",
   "metadata": {},
   "source": [
    "## 3.  Session 횟수 분포 확인 및 그룹 나누기"
   ]
  },
  {
   "cell_type": "code",
   "execution_count": 188,
   "metadata": {
    "scrolled": true
   },
   "outputs": [
    {
     "data": {
      "text/plain": [
       "<matplotlib.axes._subplots.AxesSubplot at 0x2f29c4c6dd8>"
      ]
     },
     "execution_count": 188,
     "metadata": {},
     "output_type": "execute_result"
    },
    {
     "data": {
      "image/png": "[encoded data removed]",
      "text/plain": [
       "<Figure size 432x288 with 1 Axes>"
      ]
     },
     "metadata": {
      "needs_background": "light"
     },
     "output_type": "display_data"
    }
   ],
   "source": [
    "sns.distplot(sec['sess_count'])"
   ]
  },
  {
   "cell_type": "code",
   "execution_count": 189,
   "metadata": {
    "scrolled": true
   },
   "outputs": [
    {
     "data": {
      "text/plain": [
       "count    73815.000000\n",
       "mean        75.024819\n",
       "std        112.543174\n",
       "min          1.000000\n",
       "25%         13.000000\n",
       "50%         38.000000\n",
       "75%         91.000000\n",
       "max       2644.000000\n",
       "Name: sess_count, dtype: float64"
      ]
     },
     "execution_count": 189,
     "metadata": {},
     "output_type": "execute_result"
    }
   ],
   "source": [
    "sec['sess_count'].describe()"
   ]
  },
  {
   "cell_type": "code",
   "execution_count": 20,
   "metadata": {},
   "outputs": [],
   "source": [
    "def calculate_fr(x):\n",
    "    if x<30:\n",
    "        return \"not_frequent_sess\"\n",
    "    elif x>100:\n",
    "        return \"frequent_sess\"\n",
    "    else:\n",
    "        return \"middle\""
   ]
  },
  {
   "cell_type": "code",
   "execution_count": 21,
   "metadata": {},
   "outputs": [],
   "source": [
    "sec['frequent_session_users'] = sec.apply(lambda x: calculate_fr(x['sess_count']),axis=1)"
   ]
  },
  {
   "cell_type": "markdown",
   "metadata": {},
   "source": [
    "### Short User / Not Short User 별로 여행지 비율 그래프"
   ]
  },
  {
   "cell_type": "code",
   "execution_count": 38,
   "metadata": {},
   "outputs": [],
   "source": [
    "sec = sec[sec['country_destination']!=\"NDF\"]"
   ]
  },
  {
   "cell_type": "code",
   "execution_count": 39,
   "metadata": {},
   "outputs": [],
   "source": [
    "labels = sec[sec['short_users']==1]['country_destination'].value_counts().index\n",
    "values = sec[sec['short_users']==1]['country_destination'].value_counts().values\n"
   ]
  },
  {
   "cell_type": "code",
   "execution_count": 40,
   "metadata": {},
   "outputs": [
    {
     "name": "stdout",
     "output_type": "stream",
     "text": [
      "High five! You successfully sent some data to your account on plotly. View your plot in your browser at https://plot.ly/~yycheong/0 or inside your plot.ly account where it is named 'Short users'\n"
     ]
    },
    {
     "name": "stderr",
     "output_type": "stream",
     "text": [
      "C:\\Users\\yeramc\\Anaconda3\\lib\\site-packages\\IPython\\core\\display.py:689: UserWarning:\n",
      "\n",
      "Consider using IPython.display.IFrame instead\n",
      "\n"
     ]
    },
    {
     "data": {
      "text/html": [
       "<iframe id=\"igraph\" scrolling=\"no\" style=\"border:none;\" seamless=\"seamless\" src=\"https://plot.ly/~yycheong/0.embed\" height=\"500px\" width=\"800px\"></iframe>"
      ],
      "text/plain": [
       "<chart_studio.tools.PlotlyDisplay object>"
      ]
     },
     "execution_count": 40,
     "metadata": {},
     "output_type": "execute_result"
    }
   ],
   "source": [
    "colors =  ['#CECF93','#FACFB3','#FDBFD5' ,'#A1346C',  '#E1396D','#36B38B','#76D38B', '#80F9B1','#30A9B1','#40A9B1','#30B4B1']\n",
    "\n",
    "trace = go.Pie(labels=labels, values=values, marker=dict(colors=colors))\n",
    "\n",
    "layout = dict(title =  'Short Users',\n",
    "                        autosize = False,\n",
    "                        height  = 500,\n",
    "                        width   = 800)\n",
    "fig = dict(data = [trace], layout=layout)\n",
    "\n",
    "\n",
    "py.iplot(fig, filename = 'Short users')"
   ]
  },
  {
   "cell_type": "code",
   "execution_count": 25,
   "metadata": {},
   "outputs": [],
   "source": [
    "labels = sec[sec['short_users']==0]['country_destination'].value_counts().index\n",
    "values = sec[sec['short_users']==0]['country_destination'].value_counts().values\n"
   ]
  },
  {
   "cell_type": "code",
   "execution_count": 26,
   "metadata": {
    "scrolled": false
   },
   "outputs": [
    {
     "name": "stderr",
     "output_type": "stream",
     "text": [
      "C:\\Users\\yeramc\\Anaconda3\\lib\\site-packages\\IPython\\core\\display.py:689: UserWarning:\n",
      "\n",
      "Consider using IPython.display.IFrame instead\n",
      "\n"
     ]
    },
    {
     "data": {
      "text/html": [
       "<iframe id=\"igraph\" scrolling=\"no\" style=\"border:none;\" seamless=\"seamless\" src=\"https://plot.ly/~ycheong/44.embed\" height=\"500px\" width=\"800px\"></iframe>"
      ],
      "text/plain": [
       "<chart_studio.tools.PlotlyDisplay object>"
      ]
     },
     "execution_count": 26,
     "metadata": {},
     "output_type": "execute_result"
    }
   ],
   "source": [
    "colors =  ['#CECF93','#FACFB3','#FDBFD5' ,'#A1346C',  '#E1396D','#36B38B','#76D38B', '#80F9B1','#30A9B1','#40A9B1','#30B4B1']\n",
    "\n",
    "trace = go.Pie(labels=labels, values=values, marker=dict(colors=colors))\n",
    "\n",
    "layout = dict(title =  'Not short Users',\n",
    "                        autosize = False,\n",
    "                        height  = 500,\n",
    "                        width   = 800)\n",
    "fig = dict(data = [trace], layout=layout)\n",
    "\n",
    "\n",
    "py.iplot(fig, filename = 'Not Short users')"
   ]
  },
  {
   "cell_type": "markdown",
   "metadata": {},
   "source": [
    "## Frequent Mobile Users/Not Frequent Mobile Users 여행 국가 분포 그래프"
   ]
  },
  {
   "cell_type": "code",
   "execution_count": 41,
   "metadata": {},
   "outputs": [],
   "source": [
    "labels = sec[sec['mobile_frequent_users']=='frequent']['country_destination'].value_counts().index\n",
    "values = sec[sec['mobile_frequent_users']=='frequent']['country_destination'].value_counts().values\n"
   ]
  },
  {
   "cell_type": "code",
   "execution_count": 42,
   "metadata": {},
   "outputs": [
    {
     "name": "stderr",
     "output_type": "stream",
     "text": [
      "C:\\Users\\yeramc\\Anaconda3\\lib\\site-packages\\IPython\\core\\display.py:689: UserWarning:\n",
      "\n",
      "Consider using IPython.display.IFrame instead\n",
      "\n"
     ]
    },
    {
     "data": {
      "text/html": [
       "<iframe id=\"igraph\" scrolling=\"no\" style=\"border:none;\" seamless=\"seamless\" src=\"https://plot.ly/~yycheong/2.embed\" height=\"500px\" width=\"800px\"></iframe>"
      ],
      "text/plain": [
       "<chart_studio.tools.PlotlyDisplay object>"
      ]
     },
     "execution_count": 42,
     "metadata": {},
     "output_type": "execute_result"
    }
   ],
   "source": [
    "colors =  ['#CECF93','#FACFB3','#FDBFD5' ,'#A1346C',  '#E1396D','#36B38B','#76D38B', '#80F9B1','#30A9B1','#40A9B1','#30B4B1']\n",
    "\n",
    "trace = go.Pie(labels=labels, values=values, marker=dict(colors=colors))\n",
    "\n",
    "layout = dict(title =  'Frequent Mobile Users',\n",
    "                        autosize = False,\n",
    "                        height  = 500,\n",
    "                        width   = 800)\n",
    "fig = dict(data = [trace], layout=layout)\n",
    "\n",
    "\n",
    "py.iplot(fig, filename = 'Frequent users')"
   ]
  },
  {
   "cell_type": "code",
   "execution_count": 43,
   "metadata": {},
   "outputs": [],
   "source": [
    "labels = sec[sec['mobile_frequent_users']=='not_frequent']['country_destination'].value_counts().index\n",
    "values = sec[sec['mobile_frequent_users']=='not_frequent']['country_destination'].value_counts().values\n"
   ]
  },
  {
   "cell_type": "code",
   "execution_count": 44,
   "metadata": {
    "scrolled": false
   },
   "outputs": [
    {
     "name": "stderr",
     "output_type": "stream",
     "text": [
      "C:\\Users\\yeramc\\Anaconda3\\lib\\site-packages\\IPython\\core\\display.py:689: UserWarning:\n",
      "\n",
      "Consider using IPython.display.IFrame instead\n",
      "\n"
     ]
    },
    {
     "data": {
      "text/html": [
       "<iframe id=\"igraph\" scrolling=\"no\" style=\"border:none;\" seamless=\"seamless\" src=\"https://plot.ly/~yycheong/4.embed\" height=\"500px\" width=\"800px\"></iframe>"
      ],
      "text/plain": [
       "<chart_studio.tools.PlotlyDisplay object>"
      ]
     },
     "execution_count": 44,
     "metadata": {},
     "output_type": "execute_result"
    }
   ],
   "source": [
    "colors =  ['#CECF93','#FACFB3','#FDBFD5' ,'#A1346C',  '#E1396D','#36B38B','#76D38B', '#80F9B1','#30A9B1','#40A9B1','#30B4B1']\n",
    "\n",
    "trace = go.Pie(labels=labels, values=values, marker=dict(colors=colors))\n",
    "\n",
    "layout = dict(title =  'Not Frequent Mobile Users',\n",
    "                        autosize = False,\n",
    "                        height  = 500,\n",
    "                        width   = 800)\n",
    "fig = dict(data = [trace], layout=layout)\n",
    "\n",
    "\n",
    "py.iplot(fig, filename = 'Not Frequent users')"
   ]
  },
  {
   "cell_type": "markdown",
   "metadata": {},
   "source": [
    "## Frequent Session Access/Not Frequent Session Access 여행 국가 분포 그래프"
   ]
  },
  {
   "cell_type": "code",
   "execution_count": 45,
   "metadata": {},
   "outputs": [],
   "source": [
    "labels = sec[sec['frequent_session_users']=='frequent_sess']['country_destination'].value_counts().index\n",
    "values = sec[sec['frequent_session_users']=='frequent_sess']['country_destination'].value_counts().values\n"
   ]
  },
  {
   "cell_type": "code",
   "execution_count": 46,
   "metadata": {},
   "outputs": [
    {
     "name": "stderr",
     "output_type": "stream",
     "text": [
      "C:\\Users\\yeramc\\Anaconda3\\lib\\site-packages\\IPython\\core\\display.py:689: UserWarning:\n",
      "\n",
      "Consider using IPython.display.IFrame instead\n",
      "\n"
     ]
    },
    {
     "data": {
      "text/html": [
       "<iframe id=\"igraph\" scrolling=\"no\" style=\"border:none;\" seamless=\"seamless\" src=\"https://plot.ly/~yycheong/6.embed\" height=\"500px\" width=\"800px\"></iframe>"
      ],
      "text/plain": [
       "<chart_studio.tools.PlotlyDisplay object>"
      ]
     },
     "execution_count": 46,
     "metadata": {},
     "output_type": "execute_result"
    }
   ],
   "source": [
    "colors =  ['#CECF93','#FACFB3','#FDBFD5' ,'#A1346C',  '#E1396D','#36B38B','#76D38B', '#80F9B1','#30A9B1','#40A9B1','#30B4B1']\n",
    "\n",
    "trace = go.Pie(labels=labels, values=values, marker=dict(colors=colors))\n",
    "\n",
    "layout = dict(title =  'Frequent Session Access',\n",
    "                        autosize = False,\n",
    "                        height  = 500,\n",
    "                        width   = 800)\n",
    "fig = dict(data = [trace], layout=layout)\n",
    "\n",
    "\n",
    "py.iplot(fig, filename = 'Frequent Session Access')"
   ]
  },
  {
   "cell_type": "code",
   "execution_count": 47,
   "metadata": {},
   "outputs": [],
   "source": [
    "labels = sec[sec['frequent_session_users']=='not_frequent_sess']['country_destination'].value_counts().index\n",
    "values = sec[sec['frequent_session_users']=='not_frequent_sess']['country_destination'].value_counts().values\n"
   ]
  },
  {
   "cell_type": "code",
   "execution_count": 48,
   "metadata": {},
   "outputs": [
    {
     "name": "stderr",
     "output_type": "stream",
     "text": [
      "C:\\Users\\yeramc\\Anaconda3\\lib\\site-packages\\IPython\\core\\display.py:689: UserWarning:\n",
      "\n",
      "Consider using IPython.display.IFrame instead\n",
      "\n"
     ]
    },
    {
     "data": {
      "text/html": [
       "<iframe id=\"igraph\" scrolling=\"no\" style=\"border:none;\" seamless=\"seamless\" src=\"https://plot.ly/~yycheong/8.embed\" height=\"500px\" width=\"800px\"></iframe>"
      ],
      "text/plain": [
       "<chart_studio.tools.PlotlyDisplay object>"
      ]
     },
     "execution_count": 48,
     "metadata": {},
     "output_type": "execute_result"
    }
   ],
   "source": [
    "colors =  ['#CECF93','#FACFB3','#FDBFD5' ,'#A1346C',  '#E1396D','#36B38B','#76D38B', '#80F9B1','#30A9B1','#40A9B1','#30B4B1']\n",
    "\n",
    "trace = go.Pie(labels=labels, values=values, marker=dict(colors=colors))\n",
    "\n",
    "layout = dict(title =  'Not Frequent Session Access',\n",
    "                        autosize = False,\n",
    "                        height  = 500,\n",
    "                        width   = 800)\n",
    "fig = dict(data = [trace], layout=layout)\n",
    "\n",
    "\n",
    "py.iplot(fig, filename = 'Not Frequent Session Access')"
   ]
  },
  {
   "cell_type": "markdown",
   "metadata": {},
   "source": [
    "### 전체사용량은 모바일사용비율과 상관관계없음\n",
    "### 접속한 횟수랑 시간은 상관관계 있음"
   ]
  },
  {
   "cell_type": "code",
   "execution_count": 196,
   "metadata": {},
   "outputs": [
    {
     "data": {
      "text/plain": [
       "<matplotlib.axes._subplots.AxesSubplot at 0x2f298c19b70>"
      ]
     },
     "execution_count": 196,
     "metadata": {},
     "output_type": "execute_result"
    },
    {
     "data": {
      "image/png": "[encoded data removed]",
      "text/plain": [
       "<Figure size 1080x1080 with 2 Axes>"
      ]
     },
     "metadata": {
      "needs_background": "light"
     },
     "output_type": "display_data"
    }
   ],
   "source": [
    "plt.figure(figsize=(15,15))\n",
    "sns.heatmap(data = sec[['mobile_total','total_elapsed_time','sess_count']].corr(), annot=True, \n",
    "fmt = '.2f', linewidths=.5, cmap='Blues')"
   ]
  },
  {
   "cell_type": "code",
   "execution_count": 35,
   "metadata": {
    "scrolled": true
   },
   "outputs": [
    {
     "data": {
      "text/html": [
       "<div>\n",
       "<style scoped>\n",
       "    .dataframe tbody tr th:only-of-type {\n",
       "        vertical-align: middle;\n",
       "    }\n",
       "\n",
       "    .dataframe tbody tr th {\n",
       "        vertical-align: top;\n",
       "    }\n",
       "\n",
       "    .dataframe thead th {\n",
       "        text-align: right;\n",
       "    }\n",
       "</style>\n",
       "<table border=\"1\" class=\"dataframe\">\n",
       "  <thead>\n",
       "    <tr style=\"text-align: right;\">\n",
       "      <th></th>\n",
       "      <th>user_id</th>\n",
       "      <th>total_elapsed_time</th>\n",
       "      <th>short_users</th>\n",
       "      <th>mobile_total</th>\n",
       "    </tr>\n",
       "  </thead>\n",
       "  <tbody>\n",
       "    <tr>\n",
       "      <th>137021</th>\n",
       "      <td>d1mm9tcy42</td>\n",
       "      <td>3427529.0</td>\n",
       "      <td>0</td>\n",
       "      <td>0.000000</td>\n",
       "    </tr>\n",
       "    <tr>\n",
       "      <th>137022</th>\n",
       "      <td>yo8nz8bqcq</td>\n",
       "      <td>207842.0</td>\n",
       "      <td>0</td>\n",
       "      <td>0.000000</td>\n",
       "    </tr>\n",
       "    <tr>\n",
       "      <th>137023</th>\n",
       "      <td>4grx6yxeby</td>\n",
       "      <td>1135444.0</td>\n",
       "      <td>0</td>\n",
       "      <td>0.000000</td>\n",
       "    </tr>\n",
       "    <tr>\n",
       "      <th>137024</th>\n",
       "      <td>ncf87guaf0</td>\n",
       "      <td>3755100.0</td>\n",
       "      <td>0</td>\n",
       "      <td>0.072968</td>\n",
       "    </tr>\n",
       "    <tr>\n",
       "      <th>137025</th>\n",
       "      <td>4rvqpxoh3h</td>\n",
       "      <td>2555.0</td>\n",
       "      <td>1</td>\n",
       "      <td>1.000000</td>\n",
       "    </tr>\n",
       "  </tbody>\n",
       "</table>\n",
       "</div>"
      ],
      "text/plain": [
       "           user_id  total_elapsed_time  short_users  mobile_total\n",
       "137021  d1mm9tcy42           3427529.0            0      0.000000\n",
       "137022  yo8nz8bqcq            207842.0            0      0.000000\n",
       "137023  4grx6yxeby           1135444.0            0      0.000000\n",
       "137024  ncf87guaf0           3755100.0            0      0.072968\n",
       "137025  4rvqpxoh3h              2555.0            1      1.000000"
      ]
     },
     "execution_count": 35,
     "metadata": {},
     "output_type": "execute_result"
    }
   ],
   "source": [
    "sec[['user_id','total_elapsed_time','short_users','mobile_total']].head()"
   ]
  },
  {
   "cell_type": "markdown",
   "metadata": {},
   "source": [
    "### 모바일 Percentage가 극단적으로 낮거나 높은 사람들이 총 세션 시간이 많음"
   ]
  },
  {
   "cell_type": "code",
   "execution_count": 36,
   "metadata": {
    "scrolled": true
   },
   "outputs": [
    {
     "data": {
      "text/plain": [
       "<seaborn.axisgrid.JointGrid at 0x2f28072b080>"
      ]
     },
     "execution_count": 36,
     "metadata": {},
     "output_type": "execute_result"
    },
    {
     "data": {
      "image/png": "[encoded data removed]",
      "text/plain": [
       "<Figure size 432x432 with 3 Axes>"
      ]
     },
     "metadata": {
      "needs_background": "light"
     },
     "output_type": "display_data"
    }
   ],
   "source": [
    "sns.jointplot(x=\"total_elapsed_time\", y=\"mobile_total\", data=sec)"
   ]
  },
  {
   "cell_type": "markdown",
   "metadata": {},
   "source": [
    "###  총 세션 시간과 세션 횟수는 비례"
   ]
  },
  {
   "cell_type": "code",
   "execution_count": 208,
   "metadata": {},
   "outputs": [
    {
     "data": {
      "text/plain": [
       "<seaborn.axisgrid.JointGrid at 0x2f2a1d5b0b8>"
      ]
     },
     "execution_count": 208,
     "metadata": {},
     "output_type": "execute_result"
    },
    {
     "data": {
      "image/png": "[encoded data removed]",
      "text/plain": [
       "<Figure size 432x432 with 3 Axes>"
      ]
     },
     "metadata": {
      "needs_background": "light"
     },
     "output_type": "display_data"
    }
   ],
   "source": [
    "sns.jointplot(x=\"total_elapsed_time\", y=\"sess_count\", data=sec)"
   ]
  },
  {
   "cell_type": "code",
   "execution_count": 210,
   "metadata": {},
   "outputs": [
    {
     "data": {
      "text/plain": [
       "<seaborn.axisgrid.JointGrid at 0x2f2a2e03278>"
      ]
     },
     "execution_count": 210,
     "metadata": {},
     "output_type": "execute_result"
    },
    {
     "data": {
      "image/png": "[encoded data removed]",
      "text/plain": [
       "<Figure size 432x432 with 3 Axes>"
      ]
     },
     "metadata": {
      "needs_background": "light"
     },
     "output_type": "display_data"
    }
   ],
   "source": [
    "sns.jointplot(x=\"sess_count\", y=\"mobile_total\", data=sec)"
   ]
  },
  {
   "cell_type": "markdown",
   "metadata": {},
   "source": [
    "### 가설4"
   ]
  },
  {
   "cell_type": "code",
   "execution_count": 113,
   "metadata": {},
   "outputs": [],
   "source": [
    "tourist_df = df_train[(df_train['country_destination']==\"GB\") | (df_train['country_destination']==\"FR\") | (df_train['country_destination']==\"IT\") | (df_train['country_destination']==\"ES\")]"
   ]
  },
  {
   "cell_type": "code",
   "execution_count": 133,
   "metadata": {},
   "outputs": [],
   "source": [
    "not_tourist_df = df_train[(df_train['country_destination']!=\"GB\") & (df_train['country_destination']!=\"FR\") & (df_train['country_destination']!=\"IT\") & (df_train['country_destination']!=\"ES\")]"
   ]
  },
  {
   "cell_type": "code",
   "execution_count": 115,
   "metadata": {
    "scrolled": true
   },
   "outputs": [
    {
     "data": {
      "text/plain": [
       "FR    5023\n",
       "IT    2835\n",
       "GB    2324\n",
       "ES    2249\n",
       "Name: country_destination, dtype: int64"
      ]
     },
     "execution_count": 115,
     "metadata": {},
     "output_type": "execute_result"
    }
   ],
   "source": [
    "tourist_df['country_destination'].value_counts()"
   ]
  },
  {
   "cell_type": "code",
   "execution_count": 129,
   "metadata": {
    "scrolled": true
   },
   "outputs": [
    {
     "data": {
      "text/html": [
       "<div>\n",
       "<style scoped>\n",
       "    .dataframe tbody tr th:only-of-type {\n",
       "        vertical-align: middle;\n",
       "    }\n",
       "\n",
       "    .dataframe tbody tr th {\n",
       "        vertical-align: top;\n",
       "    }\n",
       "\n",
       "    .dataframe thead th {\n",
       "        text-align: right;\n",
       "    }\n",
       "</style>\n",
       "<table border=\"1\" class=\"dataframe\">\n",
       "  <thead>\n",
       "    <tr style=\"text-align: right;\">\n",
       "      <th>signup_method</th>\n",
       "      <th>basic</th>\n",
       "      <th>facebook</th>\n",
       "      <th>google</th>\n",
       "    </tr>\n",
       "    <tr>\n",
       "      <th>country_destination</th>\n",
       "      <th></th>\n",
       "      <th></th>\n",
       "      <th></th>\n",
       "    </tr>\n",
       "  </thead>\n",
       "  <tbody>\n",
       "    <tr>\n",
       "      <th>ES</th>\n",
       "      <td>0.711872</td>\n",
       "      <td>0.287239</td>\n",
       "      <td>0.000889</td>\n",
       "    </tr>\n",
       "    <tr>\n",
       "      <th>FR</th>\n",
       "      <td>0.749950</td>\n",
       "      <td>0.249453</td>\n",
       "      <td>0.000597</td>\n",
       "    </tr>\n",
       "    <tr>\n",
       "      <th>GB</th>\n",
       "      <td>0.743115</td>\n",
       "      <td>0.256885</td>\n",
       "      <td>0.000000</td>\n",
       "    </tr>\n",
       "    <tr>\n",
       "      <th>IT</th>\n",
       "      <td>0.757319</td>\n",
       "      <td>0.241975</td>\n",
       "      <td>0.000705</td>\n",
       "    </tr>\n",
       "  </tbody>\n",
       "</table>\n",
       "</div>"
      ],
      "text/plain": [
       "signup_method           basic  facebook    google\n",
       "country_destination                              \n",
       "ES                   0.711872  0.287239  0.000889\n",
       "FR                   0.749950  0.249453  0.000597\n",
       "GB                   0.743115  0.256885  0.000000\n",
       "IT                   0.757319  0.241975  0.000705"
      ]
     },
     "execution_count": 129,
     "metadata": {},
     "output_type": "execute_result"
    }
   ],
   "source": [
    "signup = pd.crosstab(tourist_df.country_destination, tourist_df.signup_method).apply(lambda r: r/r.sum(), axis=1)\n",
    "signup"
   ]
  },
  {
   "cell_type": "markdown",
   "metadata": {},
   "source": [
    "### 1. 나라별 Signup method 확인 그래프"
   ]
  },
  {
   "cell_type": "code",
   "execution_count": 130,
   "metadata": {},
   "outputs": [
    {
     "data": {
      "text/plain": [
       "<matplotlib.axes._subplots.AxesSubplot at 0x2f298969a20>"
      ]
     },
     "execution_count": 130,
     "metadata": {},
     "output_type": "execute_result"
    },
    {
     "data": {
      "image/png": "[encoded data removed]",
      "text/plain": [
       "<Figure size 432x288 with 1 Axes>"
      ]
     },
     "metadata": {
      "needs_background": "light"
     },
     "output_type": "display_data"
    }
   ],
   "source": [
    "signup.plot.bar(stacked=True)"
   ]
  },
  {
   "cell_type": "code",
   "execution_count": 137,
   "metadata": {
    "scrolled": false
   },
   "outputs": [
    {
     "data": {
      "text/html": [
       "<div>\n",
       "<style scoped>\n",
       "    .dataframe tbody tr th:only-of-type {\n",
       "        vertical-align: middle;\n",
       "    }\n",
       "\n",
       "    .dataframe tbody tr th {\n",
       "        vertical-align: top;\n",
       "    }\n",
       "\n",
       "    .dataframe thead th {\n",
       "        text-align: right;\n",
       "    }\n",
       "</style>\n",
       "<table border=\"1\" class=\"dataframe\">\n",
       "  <thead>\n",
       "    <tr style=\"text-align: right;\">\n",
       "      <th>signup_method</th>\n",
       "      <th>basic</th>\n",
       "      <th>facebook</th>\n",
       "      <th>google</th>\n",
       "    </tr>\n",
       "    <tr>\n",
       "      <th>country_destination</th>\n",
       "      <th></th>\n",
       "      <th></th>\n",
       "      <th></th>\n",
       "    </tr>\n",
       "  </thead>\n",
       "  <tbody>\n",
       "    <tr>\n",
       "      <th>AU</th>\n",
       "      <td>0.729128</td>\n",
       "      <td>0.270872</td>\n",
       "      <td>0.000000</td>\n",
       "    </tr>\n",
       "    <tr>\n",
       "      <th>CA</th>\n",
       "      <td>0.773810</td>\n",
       "      <td>0.225490</td>\n",
       "      <td>0.000700</td>\n",
       "    </tr>\n",
       "    <tr>\n",
       "      <th>DE</th>\n",
       "      <td>0.694628</td>\n",
       "      <td>0.304430</td>\n",
       "      <td>0.000943</td>\n",
       "    </tr>\n",
       "    <tr>\n",
       "      <th>ES</th>\n",
       "      <td>0.711872</td>\n",
       "      <td>0.287239</td>\n",
       "      <td>0.000889</td>\n",
       "    </tr>\n",
       "    <tr>\n",
       "      <th>FR</th>\n",
       "      <td>0.749950</td>\n",
       "      <td>0.249453</td>\n",
       "      <td>0.000597</td>\n",
       "    </tr>\n",
       "    <tr>\n",
       "      <th>GB</th>\n",
       "      <td>0.743115</td>\n",
       "      <td>0.256885</td>\n",
       "      <td>0.000000</td>\n",
       "    </tr>\n",
       "    <tr>\n",
       "      <th>IT</th>\n",
       "      <td>0.757319</td>\n",
       "      <td>0.241975</td>\n",
       "      <td>0.000705</td>\n",
       "    </tr>\n",
       "    <tr>\n",
       "      <th>NDF</th>\n",
       "      <td>0.705347</td>\n",
       "      <td>0.291080</td>\n",
       "      <td>0.003573</td>\n",
       "    </tr>\n",
       "    <tr>\n",
       "      <th>NL</th>\n",
       "      <td>0.734908</td>\n",
       "      <td>0.265092</td>\n",
       "      <td>0.000000</td>\n",
       "    </tr>\n",
       "    <tr>\n",
       "      <th>PT</th>\n",
       "      <td>0.709677</td>\n",
       "      <td>0.285714</td>\n",
       "      <td>0.004608</td>\n",
       "    </tr>\n",
       "    <tr>\n",
       "      <th>US</th>\n",
       "      <td>0.728325</td>\n",
       "      <td>0.270408</td>\n",
       "      <td>0.001267</td>\n",
       "    </tr>\n",
       "    <tr>\n",
       "      <th>other</th>\n",
       "      <td>0.736081</td>\n",
       "      <td>0.262730</td>\n",
       "      <td>0.001189</td>\n",
       "    </tr>\n",
       "  </tbody>\n",
       "</table>\n",
       "</div>"
      ],
      "text/plain": [
       "signup_method           basic  facebook    google\n",
       "country_destination                              \n",
       "AU                   0.729128  0.270872  0.000000\n",
       "CA                   0.773810  0.225490  0.000700\n",
       "DE                   0.694628  0.304430  0.000943\n",
       "ES                   0.711872  0.287239  0.000889\n",
       "FR                   0.749950  0.249453  0.000597\n",
       "GB                   0.743115  0.256885  0.000000\n",
       "IT                   0.757319  0.241975  0.000705\n",
       "NDF                  0.705347  0.291080  0.003573\n",
       "NL                   0.734908  0.265092  0.000000\n",
       "PT                   0.709677  0.285714  0.004608\n",
       "US                   0.728325  0.270408  0.001267\n",
       "other                0.736081  0.262730  0.001189"
      ]
     },
     "execution_count": 137,
     "metadata": {},
     "output_type": "execute_result"
    }
   ],
   "source": [
    "signup_all = pd.crosstab(df_train.country_destination, df_train.signup_method).apply(lambda r: r/r.sum(), axis=1)\n",
    "signup_all"
   ]
  },
  {
   "cell_type": "markdown",
   "metadata": {},
   "source": [
    "### SIGNUP method facebook ES FR GB IT 딱히 다른나라에 비해 높지 않음"
   ]
  },
  {
   "cell_type": "code",
   "execution_count": 148,
   "metadata": {},
   "outputs": [
    {
     "data": {
      "text/plain": [
       "<matplotlib.legend.Legend at 0x2f295f1fef0>"
      ]
     },
     "execution_count": 148,
     "metadata": {},
     "output_type": "execute_result"
    },
    {
     "data": {
      "image/png": "[encoded data removed]",
      "text/plain": [
       "<Figure size 432x288 with 1 Axes>"
      ]
     },
     "metadata": {
      "needs_background": "light"
     },
     "output_type": "display_data"
    }
   ],
   "source": [
    "\n",
    "signup_all.plot.bar(stacked=True)\n",
    "plt.legend(loc='upper left', bbox_to_anchor=(1.0, 1.0))"
   ]
  },
  {
   "cell_type": "markdown",
   "metadata": {},
   "source": [
    "### 2. 나라별 affiliate_provider 그래프"
   ]
  },
  {
   "cell_type": "code",
   "execution_count": 139,
   "metadata": {
    "scrolled": true
   },
   "outputs": [
    {
     "data": {
      "text/html": [
       "<div>\n",
       "<style scoped>\n",
       "    .dataframe tbody tr th:only-of-type {\n",
       "        vertical-align: middle;\n",
       "    }\n",
       "\n",
       "    .dataframe tbody tr th {\n",
       "        vertical-align: top;\n",
       "    }\n",
       "\n",
       "    .dataframe thead th {\n",
       "        text-align: right;\n",
       "    }\n",
       "</style>\n",
       "<table border=\"1\" class=\"dataframe\">\n",
       "  <thead>\n",
       "    <tr style=\"text-align: right;\">\n",
       "      <th>affiliate_provider</th>\n",
       "      <th>baidu</th>\n",
       "      <th>bing</th>\n",
       "      <th>craigslist</th>\n",
       "      <th>direct</th>\n",
       "      <th>email-marketing</th>\n",
       "      <th>facebook</th>\n",
       "      <th>facebook-open-graph</th>\n",
       "      <th>google</th>\n",
       "      <th>gsp</th>\n",
       "      <th>meetup</th>\n",
       "      <th>naver</th>\n",
       "      <th>other</th>\n",
       "      <th>padmapper</th>\n",
       "      <th>vast</th>\n",
       "      <th>yahoo</th>\n",
       "    </tr>\n",
       "    <tr>\n",
       "      <th>country_destination</th>\n",
       "      <th></th>\n",
       "      <th></th>\n",
       "      <th></th>\n",
       "      <th></th>\n",
       "      <th></th>\n",
       "      <th></th>\n",
       "      <th></th>\n",
       "      <th></th>\n",
       "      <th></th>\n",
       "      <th></th>\n",
       "      <th></th>\n",
       "      <th></th>\n",
       "      <th></th>\n",
       "      <th></th>\n",
       "      <th></th>\n",
       "    </tr>\n",
       "  </thead>\n",
       "  <tbody>\n",
       "    <tr>\n",
       "      <th>ES</th>\n",
       "      <td>0.000000</td>\n",
       "      <td>0.008448</td>\n",
       "      <td>0.004891</td>\n",
       "      <td>0.679413</td>\n",
       "      <td>0.000000</td>\n",
       "      <td>0.014229</td>\n",
       "      <td>0.000889</td>\n",
       "      <td>0.247666</td>\n",
       "      <td>0.000000</td>\n",
       "      <td>0.000000</td>\n",
       "      <td>0.000000</td>\n",
       "      <td>0.039573</td>\n",
       "      <td>0.000445</td>\n",
       "      <td>0.002668</td>\n",
       "      <td>0.001779</td>\n",
       "    </tr>\n",
       "    <tr>\n",
       "      <th>FR</th>\n",
       "      <td>0.000199</td>\n",
       "      <td>0.010551</td>\n",
       "      <td>0.011945</td>\n",
       "      <td>0.653195</td>\n",
       "      <td>0.000000</td>\n",
       "      <td>0.010153</td>\n",
       "      <td>0.001991</td>\n",
       "      <td>0.276329</td>\n",
       "      <td>0.000199</td>\n",
       "      <td>0.000199</td>\n",
       "      <td>0.000199</td>\n",
       "      <td>0.028867</td>\n",
       "      <td>0.000796</td>\n",
       "      <td>0.002190</td>\n",
       "      <td>0.003185</td>\n",
       "    </tr>\n",
       "    <tr>\n",
       "      <th>GB</th>\n",
       "      <td>0.000000</td>\n",
       "      <td>0.009466</td>\n",
       "      <td>0.007745</td>\n",
       "      <td>0.678141</td>\n",
       "      <td>0.000861</td>\n",
       "      <td>0.010327</td>\n",
       "      <td>0.001291</td>\n",
       "      <td>0.252151</td>\n",
       "      <td>0.000000</td>\n",
       "      <td>0.000430</td>\n",
       "      <td>0.000000</td>\n",
       "      <td>0.035714</td>\n",
       "      <td>0.001721</td>\n",
       "      <td>0.000861</td>\n",
       "      <td>0.001291</td>\n",
       "    </tr>\n",
       "    <tr>\n",
       "      <th>IT</th>\n",
       "      <td>0.000000</td>\n",
       "      <td>0.014815</td>\n",
       "      <td>0.009524</td>\n",
       "      <td>0.654321</td>\n",
       "      <td>0.000353</td>\n",
       "      <td>0.010935</td>\n",
       "      <td>0.001411</td>\n",
       "      <td>0.273016</td>\n",
       "      <td>0.000705</td>\n",
       "      <td>0.001058</td>\n",
       "      <td>0.000353</td>\n",
       "      <td>0.029982</td>\n",
       "      <td>0.000353</td>\n",
       "      <td>0.001764</td>\n",
       "      <td>0.001411</td>\n",
       "    </tr>\n",
       "  </tbody>\n",
       "</table>\n",
       "</div>"
      ],
      "text/plain": [
       "affiliate_provider      baidu      bing  craigslist    direct  \\\n",
       "country_destination                                             \n",
       "ES                   0.000000  0.008448    0.004891  0.679413   \n",
       "FR                   0.000199  0.010551    0.011945  0.653195   \n",
       "GB                   0.000000  0.009466    0.007745  0.678141   \n",
       "IT                   0.000000  0.014815    0.009524  0.654321   \n",
       "\n",
       "affiliate_provider   email-marketing  facebook  facebook-open-graph    google  \\\n",
       "country_destination                                                             \n",
       "ES                          0.000000  0.014229             0.000889  0.247666   \n",
       "FR                          0.000000  0.010153             0.001991  0.276329   \n",
       "GB                          0.000861  0.010327             0.001291  0.252151   \n",
       "IT                          0.000353  0.010935             0.001411  0.273016   \n",
       "\n",
       "affiliate_provider        gsp    meetup     naver     other  padmapper  \\\n",
       "country_destination                                                      \n",
       "ES                   0.000000  0.000000  0.000000  0.039573   0.000445   \n",
       "FR                   0.000199  0.000199  0.000199  0.028867   0.000796   \n",
       "GB                   0.000000  0.000430  0.000000  0.035714   0.001721   \n",
       "IT                   0.000705  0.001058  0.000353  0.029982   0.000353   \n",
       "\n",
       "affiliate_provider       vast     yahoo  \n",
       "country_destination                      \n",
       "ES                   0.002668  0.001779  \n",
       "FR                   0.002190  0.003185  \n",
       "GB                   0.000861  0.001291  \n",
       "IT                   0.001764  0.001411  "
      ]
     },
     "execution_count": 139,
     "metadata": {},
     "output_type": "execute_result"
    }
   ],
   "source": [
    "affiliate_pv = pd.crosstab(tourist_df.country_destination, tourist_df.affiliate_provider).apply(lambda r: r/r.sum(), axis=1)\n",
    "\n",
    "affiliate_pv"
   ]
  },
  {
   "cell_type": "code",
   "execution_count": 140,
   "metadata": {},
   "outputs": [
    {
     "data": {
      "text/html": [
       "<div>\n",
       "<style scoped>\n",
       "    .dataframe tbody tr th:only-of-type {\n",
       "        vertical-align: middle;\n",
       "    }\n",
       "\n",
       "    .dataframe tbody tr th {\n",
       "        vertical-align: top;\n",
       "    }\n",
       "\n",
       "    .dataframe thead th {\n",
       "        text-align: right;\n",
       "    }\n",
       "</style>\n",
       "<table border=\"1\" class=\"dataframe\">\n",
       "  <thead>\n",
       "    <tr style=\"text-align: right;\">\n",
       "      <th>affiliate_provider</th>\n",
       "      <th>baidu</th>\n",
       "      <th>bing</th>\n",
       "      <th>craigslist</th>\n",
       "      <th>daum</th>\n",
       "      <th>direct</th>\n",
       "      <th>email-marketing</th>\n",
       "      <th>facebook</th>\n",
       "      <th>facebook-open-graph</th>\n",
       "      <th>google</th>\n",
       "      <th>gsp</th>\n",
       "      <th>meetup</th>\n",
       "      <th>naver</th>\n",
       "      <th>other</th>\n",
       "      <th>padmapper</th>\n",
       "      <th>vast</th>\n",
       "      <th>wayn</th>\n",
       "      <th>yahoo</th>\n",
       "      <th>yandex</th>\n",
       "    </tr>\n",
       "    <tr>\n",
       "      <th>country_destination</th>\n",
       "      <th></th>\n",
       "      <th></th>\n",
       "      <th></th>\n",
       "      <th></th>\n",
       "      <th></th>\n",
       "      <th></th>\n",
       "      <th></th>\n",
       "      <th></th>\n",
       "      <th></th>\n",
       "      <th></th>\n",
       "      <th></th>\n",
       "      <th></th>\n",
       "      <th></th>\n",
       "      <th></th>\n",
       "      <th></th>\n",
       "      <th></th>\n",
       "      <th></th>\n",
       "      <th></th>\n",
       "    </tr>\n",
       "  </thead>\n",
       "  <tbody>\n",
       "    <tr>\n",
       "      <th>AU</th>\n",
       "      <td>0.000000</td>\n",
       "      <td>0.014842</td>\n",
       "      <td>0.007421</td>\n",
       "      <td>0.000000</td>\n",
       "      <td>0.671614</td>\n",
       "      <td>0.000000</td>\n",
       "      <td>0.003711</td>\n",
       "      <td>0.001855</td>\n",
       "      <td>0.250464</td>\n",
       "      <td>0.001855</td>\n",
       "      <td>0.000000</td>\n",
       "      <td>0.000000</td>\n",
       "      <td>0.042672</td>\n",
       "      <td>0.000000</td>\n",
       "      <td>0.005566</td>\n",
       "      <td>0.000000</td>\n",
       "      <td>0.000000</td>\n",
       "      <td>0.000000</td>\n",
       "    </tr>\n",
       "    <tr>\n",
       "      <th>CA</th>\n",
       "      <td>0.000000</td>\n",
       "      <td>0.009804</td>\n",
       "      <td>0.027311</td>\n",
       "      <td>0.000000</td>\n",
       "      <td>0.660364</td>\n",
       "      <td>0.000000</td>\n",
       "      <td>0.009104</td>\n",
       "      <td>0.002801</td>\n",
       "      <td>0.240896</td>\n",
       "      <td>0.000000</td>\n",
       "      <td>0.000000</td>\n",
       "      <td>0.000000</td>\n",
       "      <td>0.041317</td>\n",
       "      <td>0.004902</td>\n",
       "      <td>0.002801</td>\n",
       "      <td>0.000000</td>\n",
       "      <td>0.000700</td>\n",
       "      <td>0.000000</td>\n",
       "    </tr>\n",
       "    <tr>\n",
       "      <th>DE</th>\n",
       "      <td>0.000000</td>\n",
       "      <td>0.015080</td>\n",
       "      <td>0.016965</td>\n",
       "      <td>0.000000</td>\n",
       "      <td>0.658812</td>\n",
       "      <td>0.000000</td>\n",
       "      <td>0.015080</td>\n",
       "      <td>0.001885</td>\n",
       "      <td>0.247879</td>\n",
       "      <td>0.000000</td>\n",
       "      <td>0.000000</td>\n",
       "      <td>0.000000</td>\n",
       "      <td>0.034873</td>\n",
       "      <td>0.000943</td>\n",
       "      <td>0.005655</td>\n",
       "      <td>0.000000</td>\n",
       "      <td>0.002828</td>\n",
       "      <td>0.000000</td>\n",
       "    </tr>\n",
       "    <tr>\n",
       "      <th>ES</th>\n",
       "      <td>0.000000</td>\n",
       "      <td>0.008448</td>\n",
       "      <td>0.004891</td>\n",
       "      <td>0.000000</td>\n",
       "      <td>0.679413</td>\n",
       "      <td>0.000000</td>\n",
       "      <td>0.014229</td>\n",
       "      <td>0.000889</td>\n",
       "      <td>0.247666</td>\n",
       "      <td>0.000000</td>\n",
       "      <td>0.000000</td>\n",
       "      <td>0.000000</td>\n",
       "      <td>0.039573</td>\n",
       "      <td>0.000445</td>\n",
       "      <td>0.002668</td>\n",
       "      <td>0.000000</td>\n",
       "      <td>0.001779</td>\n",
       "      <td>0.000000</td>\n",
       "    </tr>\n",
       "    <tr>\n",
       "      <th>FR</th>\n",
       "      <td>0.000199</td>\n",
       "      <td>0.010551</td>\n",
       "      <td>0.011945</td>\n",
       "      <td>0.000000</td>\n",
       "      <td>0.653195</td>\n",
       "      <td>0.000000</td>\n",
       "      <td>0.010153</td>\n",
       "      <td>0.001991</td>\n",
       "      <td>0.276329</td>\n",
       "      <td>0.000199</td>\n",
       "      <td>0.000199</td>\n",
       "      <td>0.000199</td>\n",
       "      <td>0.028867</td>\n",
       "      <td>0.000796</td>\n",
       "      <td>0.002190</td>\n",
       "      <td>0.000000</td>\n",
       "      <td>0.003185</td>\n",
       "      <td>0.000000</td>\n",
       "    </tr>\n",
       "    <tr>\n",
       "      <th>GB</th>\n",
       "      <td>0.000000</td>\n",
       "      <td>0.009466</td>\n",
       "      <td>0.007745</td>\n",
       "      <td>0.000000</td>\n",
       "      <td>0.678141</td>\n",
       "      <td>0.000861</td>\n",
       "      <td>0.010327</td>\n",
       "      <td>0.001291</td>\n",
       "      <td>0.252151</td>\n",
       "      <td>0.000000</td>\n",
       "      <td>0.000430</td>\n",
       "      <td>0.000000</td>\n",
       "      <td>0.035714</td>\n",
       "      <td>0.001721</td>\n",
       "      <td>0.000861</td>\n",
       "      <td>0.000000</td>\n",
       "      <td>0.001291</td>\n",
       "      <td>0.000000</td>\n",
       "    </tr>\n",
       "    <tr>\n",
       "      <th>IT</th>\n",
       "      <td>0.000000</td>\n",
       "      <td>0.014815</td>\n",
       "      <td>0.009524</td>\n",
       "      <td>0.000000</td>\n",
       "      <td>0.654321</td>\n",
       "      <td>0.000353</td>\n",
       "      <td>0.010935</td>\n",
       "      <td>0.001411</td>\n",
       "      <td>0.273016</td>\n",
       "      <td>0.000705</td>\n",
       "      <td>0.001058</td>\n",
       "      <td>0.000353</td>\n",
       "      <td>0.029982</td>\n",
       "      <td>0.000353</td>\n",
       "      <td>0.001764</td>\n",
       "      <td>0.000000</td>\n",
       "      <td>0.001411</td>\n",
       "      <td>0.000000</td>\n",
       "    </tr>\n",
       "    <tr>\n",
       "      <th>NDF</th>\n",
       "      <td>0.000153</td>\n",
       "      <td>0.012004</td>\n",
       "      <td>0.014894</td>\n",
       "      <td>0.000000</td>\n",
       "      <td>0.627831</td>\n",
       "      <td>0.001036</td>\n",
       "      <td>0.011891</td>\n",
       "      <td>0.003244</td>\n",
       "      <td>0.248219</td>\n",
       "      <td>0.003340</td>\n",
       "      <td>0.002417</td>\n",
       "      <td>0.000273</td>\n",
       "      <td>0.063319</td>\n",
       "      <td>0.004143</td>\n",
       "      <td>0.004480</td>\n",
       "      <td>0.000064</td>\n",
       "      <td>0.002585</td>\n",
       "      <td>0.000104</td>\n",
       "    </tr>\n",
       "    <tr>\n",
       "      <th>NL</th>\n",
       "      <td>0.000000</td>\n",
       "      <td>0.009186</td>\n",
       "      <td>0.006562</td>\n",
       "      <td>0.000000</td>\n",
       "      <td>0.654856</td>\n",
       "      <td>0.001312</td>\n",
       "      <td>0.014436</td>\n",
       "      <td>0.002625</td>\n",
       "      <td>0.271654</td>\n",
       "      <td>0.000000</td>\n",
       "      <td>0.001312</td>\n",
       "      <td>0.000000</td>\n",
       "      <td>0.036745</td>\n",
       "      <td>0.000000</td>\n",
       "      <td>0.001312</td>\n",
       "      <td>0.000000</td>\n",
       "      <td>0.000000</td>\n",
       "      <td>0.000000</td>\n",
       "    </tr>\n",
       "    <tr>\n",
       "      <th>PT</th>\n",
       "      <td>0.000000</td>\n",
       "      <td>0.018433</td>\n",
       "      <td>0.009217</td>\n",
       "      <td>0.000000</td>\n",
       "      <td>0.654378</td>\n",
       "      <td>0.000000</td>\n",
       "      <td>0.009217</td>\n",
       "      <td>0.004608</td>\n",
       "      <td>0.267281</td>\n",
       "      <td>0.000000</td>\n",
       "      <td>0.000000</td>\n",
       "      <td>0.000000</td>\n",
       "      <td>0.036866</td>\n",
       "      <td>0.000000</td>\n",
       "      <td>0.000000</td>\n",
       "      <td>0.000000</td>\n",
       "      <td>0.000000</td>\n",
       "      <td>0.000000</td>\n",
       "    </tr>\n",
       "    <tr>\n",
       "      <th>US</th>\n",
       "      <td>0.000096</td>\n",
       "      <td>0.008850</td>\n",
       "      <td>0.022076</td>\n",
       "      <td>0.000000</td>\n",
       "      <td>0.667180</td>\n",
       "      <td>0.000433</td>\n",
       "      <td>0.007968</td>\n",
       "      <td>0.001571</td>\n",
       "      <td>0.224525</td>\n",
       "      <td>0.000417</td>\n",
       "      <td>0.000545</td>\n",
       "      <td>0.000160</td>\n",
       "      <td>0.057955</td>\n",
       "      <td>0.003415</td>\n",
       "      <td>0.002806</td>\n",
       "      <td>0.000000</td>\n",
       "      <td>0.001940</td>\n",
       "      <td>0.000064</td>\n",
       "    </tr>\n",
       "    <tr>\n",
       "      <th>other</th>\n",
       "      <td>0.000297</td>\n",
       "      <td>0.009511</td>\n",
       "      <td>0.005449</td>\n",
       "      <td>0.000099</td>\n",
       "      <td>0.667030</td>\n",
       "      <td>0.000594</td>\n",
       "      <td>0.011195</td>\n",
       "      <td>0.001387</td>\n",
       "      <td>0.243907</td>\n",
       "      <td>0.000693</td>\n",
       "      <td>0.000594</td>\n",
       "      <td>0.000594</td>\n",
       "      <td>0.048643</td>\n",
       "      <td>0.002080</td>\n",
       "      <td>0.005746</td>\n",
       "      <td>0.000000</td>\n",
       "      <td>0.002180</td>\n",
       "      <td>0.000000</td>\n",
       "    </tr>\n",
       "  </tbody>\n",
       "</table>\n",
       "</div>"
      ],
      "text/plain": [
       "affiliate_provider      baidu      bing  craigslist      daum    direct  \\\n",
       "country_destination                                                       \n",
       "AU                   0.000000  0.014842    0.007421  0.000000  0.671614   \n",
       "CA                   0.000000  0.009804    0.027311  0.000000  0.660364   \n",
       "DE                   0.000000  0.015080    0.016965  0.000000  0.658812   \n",
       "ES                   0.000000  0.008448    0.004891  0.000000  0.679413   \n",
       "FR                   0.000199  0.010551    0.011945  0.000000  0.653195   \n",
       "GB                   0.000000  0.009466    0.007745  0.000000  0.678141   \n",
       "IT                   0.000000  0.014815    0.009524  0.000000  0.654321   \n",
       "NDF                  0.000153  0.012004    0.014894  0.000000  0.627831   \n",
       "NL                   0.000000  0.009186    0.006562  0.000000  0.654856   \n",
       "PT                   0.000000  0.018433    0.009217  0.000000  0.654378   \n",
       "US                   0.000096  0.008850    0.022076  0.000000  0.667180   \n",
       "other                0.000297  0.009511    0.005449  0.000099  0.667030   \n",
       "\n",
       "affiliate_provider   email-marketing  facebook  facebook-open-graph    google  \\\n",
       "country_destination                                                             \n",
       "AU                          0.000000  0.003711             0.001855  0.250464   \n",
       "CA                          0.000000  0.009104             0.002801  0.240896   \n",
       "DE                          0.000000  0.015080             0.001885  0.247879   \n",
       "ES                          0.000000  0.014229             0.000889  0.247666   \n",
       "FR                          0.000000  0.010153             0.001991  0.276329   \n",
       "GB                          0.000861  0.010327             0.001291  0.252151   \n",
       "IT                          0.000353  0.010935             0.001411  0.273016   \n",
       "NDF                         0.001036  0.011891             0.003244  0.248219   \n",
       "NL                          0.001312  0.014436             0.002625  0.271654   \n",
       "PT                          0.000000  0.009217             0.004608  0.267281   \n",
       "US                          0.000433  0.007968             0.001571  0.224525   \n",
       "other                       0.000594  0.011195             0.001387  0.243907   \n",
       "\n",
       "affiliate_provider        gsp    meetup     naver     other  padmapper  \\\n",
       "country_destination                                                      \n",
       "AU                   0.001855  0.000000  0.000000  0.042672   0.000000   \n",
       "CA                   0.000000  0.000000  0.000000  0.041317   0.004902   \n",
       "DE                   0.000000  0.000000  0.000000  0.034873   0.000943   \n",
       "ES                   0.000000  0.000000  0.000000  0.039573   0.000445   \n",
       "FR                   0.000199  0.000199  0.000199  0.028867   0.000796   \n",
       "GB                   0.000000  0.000430  0.000000  0.035714   0.001721   \n",
       "IT                   0.000705  0.001058  0.000353  0.029982   0.000353   \n",
       "NDF                  0.003340  0.002417  0.000273  0.063319   0.004143   \n",
       "NL                   0.000000  0.001312  0.000000  0.036745   0.000000   \n",
       "PT                   0.000000  0.000000  0.000000  0.036866   0.000000   \n",
       "US                   0.000417  0.000545  0.000160  0.057955   0.003415   \n",
       "other                0.000693  0.000594  0.000594  0.048643   0.002080   \n",
       "\n",
       "affiliate_provider       vast      wayn     yahoo    yandex  \n",
       "country_destination                                          \n",
       "AU                   0.005566  0.000000  0.000000  0.000000  \n",
       "CA                   0.002801  0.000000  0.000700  0.000000  \n",
       "DE                   0.005655  0.000000  0.002828  0.000000  \n",
       "ES                   0.002668  0.000000  0.001779  0.000000  \n",
       "FR                   0.002190  0.000000  0.003185  0.000000  \n",
       "GB                   0.000861  0.000000  0.001291  0.000000  \n",
       "IT                   0.001764  0.000000  0.001411  0.000000  \n",
       "NDF                  0.004480  0.000064  0.002585  0.000104  \n",
       "NL                   0.001312  0.000000  0.000000  0.000000  \n",
       "PT                   0.000000  0.000000  0.000000  0.000000  \n",
       "US                   0.002806  0.000000  0.001940  0.000064  \n",
       "other                0.005746  0.000000  0.002180  0.000000  "
      ]
     },
     "execution_count": 140,
     "metadata": {},
     "output_type": "execute_result"
    }
   ],
   "source": [
    "affiliate_pv_all = pd.crosstab(df_train.country_destination, df_train.affiliate_provider).apply(lambda r: r/r.sum(), axis=1)\n",
    "affiliate_pv_all"
   ]
  },
  {
   "cell_type": "code",
   "execution_count": 147,
   "metadata": {},
   "outputs": [
    {
     "data": {
      "text/plain": [
       "<matplotlib.legend.Legend at 0x2f29877c8d0>"
      ]
     },
     "execution_count": 147,
     "metadata": {},
     "output_type": "execute_result"
    },
    {
     "data": {
      "image/png": "[encoded data removed]",
      "text/plain": [
       "<Figure size 432x288 with 1 Axes>"
      ]
     },
     "metadata": {
      "needs_background": "light"
     },
     "output_type": "display_data"
    }
   ],
   "source": [
    "affiliate_pv_all.plot.bar(stacked=True)\n",
    "plt.legend(loc='upper left', bbox_to_anchor=(1.0, 1.0))"
   ]
  },
  {
   "cell_type": "markdown",
   "metadata": {},
   "source": [
    "### 3. 나라별 first_affiliate_tracked 그래프"
   ]
  },
  {
   "cell_type": "code",
   "execution_count": 149,
   "metadata": {},
   "outputs": [
    {
     "data": {
      "text/html": [
       "<div>\n",
       "<style scoped>\n",
       "    .dataframe tbody tr th:only-of-type {\n",
       "        vertical-align: middle;\n",
       "    }\n",
       "\n",
       "    .dataframe tbody tr th {\n",
       "        vertical-align: top;\n",
       "    }\n",
       "\n",
       "    .dataframe thead th {\n",
       "        text-align: right;\n",
       "    }\n",
       "</style>\n",
       "<table border=\"1\" class=\"dataframe\">\n",
       "  <thead>\n",
       "    <tr style=\"text-align: right;\">\n",
       "      <th>first_affiliate_tracked</th>\n",
       "      <th>linked</th>\n",
       "      <th>marketing</th>\n",
       "      <th>omg</th>\n",
       "      <th>product</th>\n",
       "      <th>tracked-other</th>\n",
       "      <th>untracked</th>\n",
       "    </tr>\n",
       "    <tr>\n",
       "      <th>country_destination</th>\n",
       "      <th></th>\n",
       "      <th></th>\n",
       "      <th></th>\n",
       "      <th></th>\n",
       "      <th></th>\n",
       "      <th></th>\n",
       "    </tr>\n",
       "  </thead>\n",
       "  <tbody>\n",
       "    <tr>\n",
       "      <th>ES</th>\n",
       "      <td>0.248080</td>\n",
       "      <td>0.000000</td>\n",
       "      <td>0.191143</td>\n",
       "      <td>0.004971</td>\n",
       "      <td>0.015364</td>\n",
       "      <td>0.540443</td>\n",
       "    </tr>\n",
       "    <tr>\n",
       "      <th>FR</th>\n",
       "      <td>0.221882</td>\n",
       "      <td>0.000408</td>\n",
       "      <td>0.212288</td>\n",
       "      <td>0.005715</td>\n",
       "      <td>0.018575</td>\n",
       "      <td>0.541131</td>\n",
       "    </tr>\n",
       "    <tr>\n",
       "      <th>GB</th>\n",
       "      <td>0.221351</td>\n",
       "      <td>0.000436</td>\n",
       "      <td>0.216993</td>\n",
       "      <td>0.002614</td>\n",
       "      <td>0.020479</td>\n",
       "      <td>0.538126</td>\n",
       "    </tr>\n",
       "    <tr>\n",
       "      <th>IT</th>\n",
       "      <td>0.197420</td>\n",
       "      <td>0.000358</td>\n",
       "      <td>0.226084</td>\n",
       "      <td>0.010749</td>\n",
       "      <td>0.017915</td>\n",
       "      <td>0.547474</td>\n",
       "    </tr>\n",
       "  </tbody>\n",
       "</table>\n",
       "</div>"
      ],
      "text/plain": [
       "first_affiliate_tracked    linked  marketing       omg   product  \\\n",
       "country_destination                                                \n",
       "ES                       0.248080   0.000000  0.191143  0.004971   \n",
       "FR                       0.221882   0.000408  0.212288  0.005715   \n",
       "GB                       0.221351   0.000436  0.216993  0.002614   \n",
       "IT                       0.197420   0.000358  0.226084  0.010749   \n",
       "\n",
       "first_affiliate_tracked  tracked-other  untracked  \n",
       "country_destination                                \n",
       "ES                            0.015364   0.540443  \n",
       "FR                            0.018575   0.541131  \n",
       "GB                            0.020479   0.538126  \n",
       "IT                            0.017915   0.547474  "
      ]
     },
     "execution_count": 149,
     "metadata": {},
     "output_type": "execute_result"
    }
   ],
   "source": [
    "fr_aff = pd.crosstab(tourist_df.country_destination, tourist_df.first_affiliate_tracked).apply(lambda r: r/r.sum(), axis=1)\n",
    "\n",
    "fr_aff"
   ]
  },
  {
   "cell_type": "code",
   "execution_count": 150,
   "metadata": {
    "scrolled": false
   },
   "outputs": [
    {
     "data": {
      "text/html": [
       "<div>\n",
       "<style scoped>\n",
       "    .dataframe tbody tr th:only-of-type {\n",
       "        vertical-align: middle;\n",
       "    }\n",
       "\n",
       "    .dataframe tbody tr th {\n",
       "        vertical-align: top;\n",
       "    }\n",
       "\n",
       "    .dataframe thead th {\n",
       "        text-align: right;\n",
       "    }\n",
       "</style>\n",
       "<table border=\"1\" class=\"dataframe\">\n",
       "  <thead>\n",
       "    <tr style=\"text-align: right;\">\n",
       "      <th>first_affiliate_tracked</th>\n",
       "      <th>linked</th>\n",
       "      <th>local ops</th>\n",
       "      <th>marketing</th>\n",
       "      <th>omg</th>\n",
       "      <th>product</th>\n",
       "      <th>tracked-other</th>\n",
       "      <th>untracked</th>\n",
       "    </tr>\n",
       "    <tr>\n",
       "      <th>country_destination</th>\n",
       "      <th></th>\n",
       "      <th></th>\n",
       "      <th></th>\n",
       "      <th></th>\n",
       "      <th></th>\n",
       "      <th></th>\n",
       "      <th></th>\n",
       "    </tr>\n",
       "  </thead>\n",
       "  <tbody>\n",
       "    <tr>\n",
       "      <th>AU</th>\n",
       "      <td>0.206831</td>\n",
       "      <td>0.001898</td>\n",
       "      <td>0.000000</td>\n",
       "      <td>0.225806</td>\n",
       "      <td>0.007590</td>\n",
       "      <td>0.011385</td>\n",
       "      <td>0.546490</td>\n",
       "    </tr>\n",
       "    <tr>\n",
       "      <th>CA</th>\n",
       "      <td>0.212797</td>\n",
       "      <td>0.000000</td>\n",
       "      <td>0.000719</td>\n",
       "      <td>0.192667</td>\n",
       "      <td>0.007189</td>\n",
       "      <td>0.028037</td>\n",
       "      <td>0.558591</td>\n",
       "    </tr>\n",
       "    <tr>\n",
       "      <th>DE</th>\n",
       "      <td>0.225744</td>\n",
       "      <td>0.000000</td>\n",
       "      <td>0.000000</td>\n",
       "      <td>0.193084</td>\n",
       "      <td>0.002882</td>\n",
       "      <td>0.022094</td>\n",
       "      <td>0.556196</td>\n",
       "    </tr>\n",
       "    <tr>\n",
       "      <th>ES</th>\n",
       "      <td>0.248080</td>\n",
       "      <td>0.000000</td>\n",
       "      <td>0.000000</td>\n",
       "      <td>0.191143</td>\n",
       "      <td>0.004971</td>\n",
       "      <td>0.015364</td>\n",
       "      <td>0.540443</td>\n",
       "    </tr>\n",
       "    <tr>\n",
       "      <th>FR</th>\n",
       "      <td>0.221882</td>\n",
       "      <td>0.000000</td>\n",
       "      <td>0.000408</td>\n",
       "      <td>0.212288</td>\n",
       "      <td>0.005715</td>\n",
       "      <td>0.018575</td>\n",
       "      <td>0.541131</td>\n",
       "    </tr>\n",
       "    <tr>\n",
       "      <th>GB</th>\n",
       "      <td>0.221351</td>\n",
       "      <td>0.000000</td>\n",
       "      <td>0.000436</td>\n",
       "      <td>0.216993</td>\n",
       "      <td>0.002614</td>\n",
       "      <td>0.020479</td>\n",
       "      <td>0.538126</td>\n",
       "    </tr>\n",
       "    <tr>\n",
       "      <th>IT</th>\n",
       "      <td>0.197420</td>\n",
       "      <td>0.000000</td>\n",
       "      <td>0.000358</td>\n",
       "      <td>0.226084</td>\n",
       "      <td>0.010749</td>\n",
       "      <td>0.017915</td>\n",
       "      <td>0.547474</td>\n",
       "    </tr>\n",
       "    <tr>\n",
       "      <th>NDF</th>\n",
       "      <td>0.217816</td>\n",
       "      <td>0.000208</td>\n",
       "      <td>0.000632</td>\n",
       "      <td>0.229229</td>\n",
       "      <td>0.008435</td>\n",
       "      <td>0.032159</td>\n",
       "      <td>0.511521</td>\n",
       "    </tr>\n",
       "    <tr>\n",
       "      <th>NL</th>\n",
       "      <td>0.206391</td>\n",
       "      <td>0.000000</td>\n",
       "      <td>0.000000</td>\n",
       "      <td>0.210386</td>\n",
       "      <td>0.009321</td>\n",
       "      <td>0.014647</td>\n",
       "      <td>0.559254</td>\n",
       "    </tr>\n",
       "    <tr>\n",
       "      <th>PT</th>\n",
       "      <td>0.191589</td>\n",
       "      <td>0.000000</td>\n",
       "      <td>0.000000</td>\n",
       "      <td>0.210280</td>\n",
       "      <td>0.037383</td>\n",
       "      <td>0.018692</td>\n",
       "      <td>0.542056</td>\n",
       "    </tr>\n",
       "    <tr>\n",
       "      <th>US</th>\n",
       "      <td>0.233973</td>\n",
       "      <td>0.000082</td>\n",
       "      <td>0.000819</td>\n",
       "      <td>0.180998</td>\n",
       "      <td>0.005797</td>\n",
       "      <td>0.029263</td>\n",
       "      <td>0.549069</td>\n",
       "    </tr>\n",
       "    <tr>\n",
       "      <th>other</th>\n",
       "      <td>0.228735</td>\n",
       "      <td>0.000301</td>\n",
       "      <td>0.000802</td>\n",
       "      <td>0.199279</td>\n",
       "      <td>0.008115</td>\n",
       "      <td>0.019838</td>\n",
       "      <td>0.542932</td>\n",
       "    </tr>\n",
       "  </tbody>\n",
       "</table>\n",
       "</div>"
      ],
      "text/plain": [
       "first_affiliate_tracked    linked  local ops  marketing       omg   product  \\\n",
       "country_destination                                                           \n",
       "AU                       0.206831   0.001898   0.000000  0.225806  0.007590   \n",
       "CA                       0.212797   0.000000   0.000719  0.192667  0.007189   \n",
       "DE                       0.225744   0.000000   0.000000  0.193084  0.002882   \n",
       "ES                       0.248080   0.000000   0.000000  0.191143  0.004971   \n",
       "FR                       0.221882   0.000000   0.000408  0.212288  0.005715   \n",
       "GB                       0.221351   0.000000   0.000436  0.216993  0.002614   \n",
       "IT                       0.197420   0.000000   0.000358  0.226084  0.010749   \n",
       "NDF                      0.217816   0.000208   0.000632  0.229229  0.008435   \n",
       "NL                       0.206391   0.000000   0.000000  0.210386  0.009321   \n",
       "PT                       0.191589   0.000000   0.000000  0.210280  0.037383   \n",
       "US                       0.233973   0.000082   0.000819  0.180998  0.005797   \n",
       "other                    0.228735   0.000301   0.000802  0.199279  0.008115   \n",
       "\n",
       "first_affiliate_tracked  tracked-other  untracked  \n",
       "country_destination                                \n",
       "AU                            0.011385   0.546490  \n",
       "CA                            0.028037   0.558591  \n",
       "DE                            0.022094   0.556196  \n",
       "ES                            0.015364   0.540443  \n",
       "FR                            0.018575   0.541131  \n",
       "GB                            0.020479   0.538126  \n",
       "IT                            0.017915   0.547474  \n",
       "NDF                           0.032159   0.511521  \n",
       "NL                            0.014647   0.559254  \n",
       "PT                            0.018692   0.542056  \n",
       "US                            0.029263   0.549069  \n",
       "other                         0.019838   0.542932  "
      ]
     },
     "execution_count": 150,
     "metadata": {},
     "output_type": "execute_result"
    }
   ],
   "source": [
    "fr_aff_all = pd.crosstab(df_train.country_destination, df_train.first_affiliate_tracked).apply(lambda r: r/r.sum(), axis=1)\n",
    "fr_aff_all"
   ]
  },
  {
   "cell_type": "code",
   "execution_count": 151,
   "metadata": {
    "scrolled": false
   },
   "outputs": [
    {
     "data": {
      "text/plain": [
       "<matplotlib.legend.Legend at 0x2f295f1f128>"
      ]
     },
     "execution_count": 151,
     "metadata": {},
     "output_type": "execute_result"
    },
    {
     "data": {
      "image/png": "[encoded data removed]",
      "text/plain": [
       "<Figure size 432x288 with 1 Axes>"
      ]
     },
     "metadata": {
      "needs_background": "light"
     },
     "output_type": "display_data"
    }
   ],
   "source": [
    "fr_aff_all.plot.bar(stacked=True)\n",
    "plt.legend(loc='upper left', bbox_to_anchor=(1.0, 1.0))"
   ]
  },
  {
   "cell_type": "markdown",
   "metadata": {},
   "source": [
    "### 나라별 first_device_type 그래프"
   ]
  },
  {
   "cell_type": "code",
   "execution_count": 52,
   "metadata": {},
   "outputs": [],
   "source": [
    "def device(x):\n",
    "    if x == \"Mac Desktop\":\n",
    "        return \"Desktop\"\n",
    "    elif x== \"Windows Desktop\":\n",
    "        return \"Desktop\"\n",
    "    elif x== \"Desktop(Other)\":\n",
    "        return \"Desktop\"\n",
    "    elif x== \"Other/Unknown\":\n",
    "        return \"Other/Unknown\"\n",
    "    elif x== \"Android Tablet\":\n",
    "        return \"Tablet\"\n",
    "    elif x == \"iPad\":\n",
    "        return \"Tablet\"\n",
    "    else:\n",
    "        return \"Mobile\""
   ]
  },
  {
   "cell_type": "code",
   "execution_count": 53,
   "metadata": {},
   "outputs": [],
   "source": [
    "df_train['mobileordesktop'] = df_train.apply(lambda x: device(x['first_device_type']),axis=1)"
   ]
  },
  {
   "cell_type": "code",
   "execution_count": 54,
   "metadata": {},
   "outputs": [
    {
     "data": {
      "text/html": [
       "<div>\n",
       "<style scoped>\n",
       "    .dataframe tbody tr th:only-of-type {\n",
       "        vertical-align: middle;\n",
       "    }\n",
       "\n",
       "    .dataframe tbody tr th {\n",
       "        vertical-align: top;\n",
       "    }\n",
       "\n",
       "    .dataframe thead th {\n",
       "        text-align: right;\n",
       "    }\n",
       "</style>\n",
       "<table border=\"1\" class=\"dataframe\">\n",
       "  <thead>\n",
       "    <tr style=\"text-align: right;\">\n",
       "      <th>first_device_type</th>\n",
       "      <th>Android Phone</th>\n",
       "      <th>Android Tablet</th>\n",
       "      <th>Desktop (Other)</th>\n",
       "      <th>Mac Desktop</th>\n",
       "      <th>Other/Unknown</th>\n",
       "      <th>SmartPhone (Other)</th>\n",
       "      <th>Windows Desktop</th>\n",
       "      <th>iPad</th>\n",
       "      <th>iPhone</th>\n",
       "    </tr>\n",
       "    <tr>\n",
       "      <th>country_destination</th>\n",
       "      <th></th>\n",
       "      <th></th>\n",
       "      <th></th>\n",
       "      <th></th>\n",
       "      <th></th>\n",
       "      <th></th>\n",
       "      <th></th>\n",
       "      <th></th>\n",
       "      <th></th>\n",
       "    </tr>\n",
       "  </thead>\n",
       "  <tbody>\n",
       "    <tr>\n",
       "      <th>AU</th>\n",
       "      <td>0.001855</td>\n",
       "      <td>0.003711</td>\n",
       "      <td>0.007421</td>\n",
       "      <td>0.491651</td>\n",
       "      <td>0.033395</td>\n",
       "      <td>0.000000</td>\n",
       "      <td>0.317254</td>\n",
       "      <td>0.077922</td>\n",
       "      <td>0.066790</td>\n",
       "    </tr>\n",
       "    <tr>\n",
       "      <th>CA</th>\n",
       "      <td>0.009104</td>\n",
       "      <td>0.007703</td>\n",
       "      <td>0.012605</td>\n",
       "      <td>0.475490</td>\n",
       "      <td>0.034314</td>\n",
       "      <td>0.000000</td>\n",
       "      <td>0.364146</td>\n",
       "      <td>0.054622</td>\n",
       "      <td>0.042017</td>\n",
       "    </tr>\n",
       "    <tr>\n",
       "      <th>DE</th>\n",
       "      <td>0.003770</td>\n",
       "      <td>0.004713</td>\n",
       "      <td>0.012253</td>\n",
       "      <td>0.521206</td>\n",
       "      <td>0.023563</td>\n",
       "      <td>0.000000</td>\n",
       "      <td>0.319510</td>\n",
       "      <td>0.058435</td>\n",
       "      <td>0.056550</td>\n",
       "    </tr>\n",
       "    <tr>\n",
       "      <th>ES</th>\n",
       "      <td>0.005780</td>\n",
       "      <td>0.004891</td>\n",
       "      <td>0.004891</td>\n",
       "      <td>0.488217</td>\n",
       "      <td>0.027123</td>\n",
       "      <td>0.000000</td>\n",
       "      <td>0.343708</td>\n",
       "      <td>0.067586</td>\n",
       "      <td>0.057803</td>\n",
       "    </tr>\n",
       "    <tr>\n",
       "      <th>FR</th>\n",
       "      <td>0.003384</td>\n",
       "      <td>0.004579</td>\n",
       "      <td>0.004778</td>\n",
       "      <td>0.516225</td>\n",
       "      <td>0.032849</td>\n",
       "      <td>0.000398</td>\n",
       "      <td>0.313757</td>\n",
       "      <td>0.070874</td>\n",
       "      <td>0.053155</td>\n",
       "    </tr>\n",
       "    <tr>\n",
       "      <th>GB</th>\n",
       "      <td>0.001291</td>\n",
       "      <td>0.002151</td>\n",
       "      <td>0.003442</td>\n",
       "      <td>0.515060</td>\n",
       "      <td>0.022375</td>\n",
       "      <td>0.000000</td>\n",
       "      <td>0.328744</td>\n",
       "      <td>0.068417</td>\n",
       "      <td>0.058520</td>\n",
       "    </tr>\n",
       "    <tr>\n",
       "      <th>IT</th>\n",
       "      <td>0.004586</td>\n",
       "      <td>0.005996</td>\n",
       "      <td>0.004586</td>\n",
       "      <td>0.486420</td>\n",
       "      <td>0.020106</td>\n",
       "      <td>0.000353</td>\n",
       "      <td>0.341799</td>\n",
       "      <td>0.079365</td>\n",
       "      <td>0.056790</td>\n",
       "    </tr>\n",
       "    <tr>\n",
       "      <th>NDF</th>\n",
       "      <td>0.016765</td>\n",
       "      <td>0.006680</td>\n",
       "      <td>0.005211</td>\n",
       "      <td>0.380190</td>\n",
       "      <td>0.062565</td>\n",
       "      <td>0.000409</td>\n",
       "      <td>0.341761</td>\n",
       "      <td>0.071261</td>\n",
       "      <td>0.115157</td>\n",
       "    </tr>\n",
       "    <tr>\n",
       "      <th>NL</th>\n",
       "      <td>0.006562</td>\n",
       "      <td>0.006562</td>\n",
       "      <td>0.006562</td>\n",
       "      <td>0.523622</td>\n",
       "      <td>0.024934</td>\n",
       "      <td>0.000000</td>\n",
       "      <td>0.291339</td>\n",
       "      <td>0.089239</td>\n",
       "      <td>0.051181</td>\n",
       "    </tr>\n",
       "    <tr>\n",
       "      <th>PT</th>\n",
       "      <td>0.000000</td>\n",
       "      <td>0.009217</td>\n",
       "      <td>0.000000</td>\n",
       "      <td>0.511521</td>\n",
       "      <td>0.023041</td>\n",
       "      <td>0.000000</td>\n",
       "      <td>0.350230</td>\n",
       "      <td>0.055300</td>\n",
       "      <td>0.050691</td>\n",
       "    </tr>\n",
       "    <tr>\n",
       "      <th>US</th>\n",
       "      <td>0.009058</td>\n",
       "      <td>0.005034</td>\n",
       "      <td>0.006317</td>\n",
       "      <td>0.474141</td>\n",
       "      <td>0.034324</td>\n",
       "      <td>0.000321</td>\n",
       "      <td>0.335225</td>\n",
       "      <td>0.058388</td>\n",
       "      <td>0.077193</td>\n",
       "    </tr>\n",
       "    <tr>\n",
       "      <th>other</th>\n",
       "      <td>0.008025</td>\n",
       "      <td>0.006439</td>\n",
       "      <td>0.005944</td>\n",
       "      <td>0.436002</td>\n",
       "      <td>0.028036</td>\n",
       "      <td>0.000198</td>\n",
       "      <td>0.379631</td>\n",
       "      <td>0.066178</td>\n",
       "      <td>0.069546</td>\n",
       "    </tr>\n",
       "  </tbody>\n",
       "</table>\n",
       "</div>"
      ],
      "text/plain": [
       "first_device_type    Android Phone  Android Tablet  Desktop (Other)  \\\n",
       "country_destination                                                   \n",
       "AU                        0.001855        0.003711         0.007421   \n",
       "CA                        0.009104        0.007703         0.012605   \n",
       "DE                        0.003770        0.004713         0.012253   \n",
       "ES                        0.005780        0.004891         0.004891   \n",
       "FR                        0.003384        0.004579         0.004778   \n",
       "GB                        0.001291        0.002151         0.003442   \n",
       "IT                        0.004586        0.005996         0.004586   \n",
       "NDF                       0.016765        0.006680         0.005211   \n",
       "NL                        0.006562        0.006562         0.006562   \n",
       "PT                        0.000000        0.009217         0.000000   \n",
       "US                        0.009058        0.005034         0.006317   \n",
       "other                     0.008025        0.006439         0.005944   \n",
       "\n",
       "first_device_type    Mac Desktop  Other/Unknown  SmartPhone (Other)  \\\n",
       "country_destination                                                   \n",
       "AU                      0.491651       0.033395            0.000000   \n",
       "CA                      0.475490       0.034314            0.000000   \n",
       "DE                      0.521206       0.023563            0.000000   \n",
       "ES                      0.488217       0.027123            0.000000   \n",
       "FR                      0.516225       0.032849            0.000398   \n",
       "GB                      0.515060       0.022375            0.000000   \n",
       "IT                      0.486420       0.020106            0.000353   \n",
       "NDF                     0.380190       0.062565            0.000409   \n",
       "NL                      0.523622       0.024934            0.000000   \n",
       "PT                      0.511521       0.023041            0.000000   \n",
       "US                      0.474141       0.034324            0.000321   \n",
       "other                   0.436002       0.028036            0.000198   \n",
       "\n",
       "first_device_type    Windows Desktop      iPad    iPhone  \n",
       "country_destination                                       \n",
       "AU                          0.317254  0.077922  0.066790  \n",
       "CA                          0.364146  0.054622  0.042017  \n",
       "DE                          0.319510  0.058435  0.056550  \n",
       "ES                          0.343708  0.067586  0.057803  \n",
       "FR                          0.313757  0.070874  0.053155  \n",
       "GB                          0.328744  0.068417  0.058520  \n",
       "IT                          0.341799  0.079365  0.056790  \n",
       "NDF                         0.341761  0.071261  0.115157  \n",
       "NL                          0.291339  0.089239  0.051181  \n",
       "PT                          0.350230  0.055300  0.050691  \n",
       "US                          0.335225  0.058388  0.077193  \n",
       "other                       0.379631  0.066178  0.069546  "
      ]
     },
     "execution_count": 54,
     "metadata": {},
     "output_type": "execute_result"
    }
   ],
   "source": [
    "device_k = pd.crosstab(df_train.country_destination, df_train.first_device_type).apply(lambda r: r/r.sum(), axis=1)\n",
    "device_k"
   ]
  },
  {
   "cell_type": "code",
   "execution_count": 55,
   "metadata": {},
   "outputs": [
    {
     "data": {
      "text/html": [
       "<div>\n",
       "<style scoped>\n",
       "    .dataframe tbody tr th:only-of-type {\n",
       "        vertical-align: middle;\n",
       "    }\n",
       "\n",
       "    .dataframe tbody tr th {\n",
       "        vertical-align: top;\n",
       "    }\n",
       "\n",
       "    .dataframe thead th {\n",
       "        text-align: right;\n",
       "    }\n",
       "</style>\n",
       "<table border=\"1\" class=\"dataframe\">\n",
       "  <thead>\n",
       "    <tr style=\"text-align: right;\">\n",
       "      <th>mobileordesktop</th>\n",
       "      <th>Desktop</th>\n",
       "      <th>Mobile</th>\n",
       "      <th>Other/Unknown</th>\n",
       "      <th>Tablet</th>\n",
       "    </tr>\n",
       "    <tr>\n",
       "      <th>country_destination</th>\n",
       "      <th></th>\n",
       "      <th></th>\n",
       "      <th></th>\n",
       "      <th></th>\n",
       "    </tr>\n",
       "  </thead>\n",
       "  <tbody>\n",
       "    <tr>\n",
       "      <th>AU</th>\n",
       "      <td>0.808905</td>\n",
       "      <td>0.076067</td>\n",
       "      <td>0.033395</td>\n",
       "      <td>0.081633</td>\n",
       "    </tr>\n",
       "    <tr>\n",
       "      <th>CA</th>\n",
       "      <td>0.839636</td>\n",
       "      <td>0.063725</td>\n",
       "      <td>0.034314</td>\n",
       "      <td>0.062325</td>\n",
       "    </tr>\n",
       "    <tr>\n",
       "      <th>DE</th>\n",
       "      <td>0.840716</td>\n",
       "      <td>0.072573</td>\n",
       "      <td>0.023563</td>\n",
       "      <td>0.063148</td>\n",
       "    </tr>\n",
       "    <tr>\n",
       "      <th>ES</th>\n",
       "      <td>0.831925</td>\n",
       "      <td>0.068475</td>\n",
       "      <td>0.027123</td>\n",
       "      <td>0.072477</td>\n",
       "    </tr>\n",
       "    <tr>\n",
       "      <th>FR</th>\n",
       "      <td>0.829982</td>\n",
       "      <td>0.061716</td>\n",
       "      <td>0.032849</td>\n",
       "      <td>0.075453</td>\n",
       "    </tr>\n",
       "    <tr>\n",
       "      <th>GB</th>\n",
       "      <td>0.843804</td>\n",
       "      <td>0.063253</td>\n",
       "      <td>0.022375</td>\n",
       "      <td>0.070568</td>\n",
       "    </tr>\n",
       "    <tr>\n",
       "      <th>IT</th>\n",
       "      <td>0.828219</td>\n",
       "      <td>0.066314</td>\n",
       "      <td>0.020106</td>\n",
       "      <td>0.085362</td>\n",
       "    </tr>\n",
       "    <tr>\n",
       "      <th>NDF</th>\n",
       "      <td>0.721951</td>\n",
       "      <td>0.137543</td>\n",
       "      <td>0.062565</td>\n",
       "      <td>0.077941</td>\n",
       "    </tr>\n",
       "    <tr>\n",
       "      <th>NL</th>\n",
       "      <td>0.814961</td>\n",
       "      <td>0.064304</td>\n",
       "      <td>0.024934</td>\n",
       "      <td>0.095801</td>\n",
       "    </tr>\n",
       "    <tr>\n",
       "      <th>PT</th>\n",
       "      <td>0.861751</td>\n",
       "      <td>0.050691</td>\n",
       "      <td>0.023041</td>\n",
       "      <td>0.064516</td>\n",
       "    </tr>\n",
       "    <tr>\n",
       "      <th>US</th>\n",
       "      <td>0.809366</td>\n",
       "      <td>0.092888</td>\n",
       "      <td>0.034324</td>\n",
       "      <td>0.063422</td>\n",
       "    </tr>\n",
       "    <tr>\n",
       "      <th>other</th>\n",
       "      <td>0.815633</td>\n",
       "      <td>0.083713</td>\n",
       "      <td>0.028036</td>\n",
       "      <td>0.072617</td>\n",
       "    </tr>\n",
       "  </tbody>\n",
       "</table>\n",
       "</div>"
      ],
      "text/plain": [
       "mobileordesktop       Desktop    Mobile  Other/Unknown    Tablet\n",
       "country_destination                                             \n",
       "AU                   0.808905  0.076067       0.033395  0.081633\n",
       "CA                   0.839636  0.063725       0.034314  0.062325\n",
       "DE                   0.840716  0.072573       0.023563  0.063148\n",
       "ES                   0.831925  0.068475       0.027123  0.072477\n",
       "FR                   0.829982  0.061716       0.032849  0.075453\n",
       "GB                   0.843804  0.063253       0.022375  0.070568\n",
       "IT                   0.828219  0.066314       0.020106  0.085362\n",
       "NDF                  0.721951  0.137543       0.062565  0.077941\n",
       "NL                   0.814961  0.064304       0.024934  0.095801\n",
       "PT                   0.861751  0.050691       0.023041  0.064516\n",
       "US                   0.809366  0.092888       0.034324  0.063422\n",
       "other                0.815633  0.083713       0.028036  0.072617"
      ]
     },
     "execution_count": 55,
     "metadata": {},
     "output_type": "execute_result"
    }
   ],
   "source": [
    "device = pd.crosstab(df_train.country_destination, df_train.mobileordesktop).apply(lambda r: r/r.sum(), axis=1)\n",
    "device"
   ]
  },
  {
   "cell_type": "code",
   "execution_count": 56,
   "metadata": {},
   "outputs": [
    {
     "data": {
      "text/plain": [
       "<matplotlib.legend.Legend at 0x21c0ad90630>"
      ]
     },
     "execution_count": 56,
     "metadata": {},
     "output_type": "execute_result"
    },
    {
     "data": {
      "image/png": "[encoded data removed]",
      "text/plain": [
       "<Figure size 432x288 with 1 Axes>"
      ]
     },
     "metadata": {
      "needs_background": "light"
     },
     "output_type": "display_data"
    }
   ],
   "source": [
    "device.plot.bar(stacked=True)\n",
    "plt.legend(loc='upper left', bbox_to_anchor=(1.0, 1.0))"
   ]
  },
  {
   "cell_type": "code",
   "execution_count": 57,
   "metadata": {},
   "outputs": [
    {
     "data": {
      "text/plain": [
       "<matplotlib.legend.Legend at 0x21c103653c8>"
      ]
     },
     "execution_count": 57,
     "metadata": {},
     "output_type": "execute_result"
    },
    {
     "data": {
      "image/png": "[encoded data removed]",
      "text/plain": [
       "<Figure size 432x288 with 1 Axes>"
      ]
     },
     "metadata": {
      "needs_background": "light"
     },
     "output_type": "display_data"
    }
   ],
   "source": [
    "device_k.plot.bar(stacked=True)\n",
    "plt.legend(loc='upper left', bbox_to_anchor=(1.0, 1.0))"
   ]
  },
  {
   "cell_type": "markdown",
   "metadata": {},
   "source": [
    "### 가설5 ~ device type에 따른 평균 나이"
   ]
  },
  {
   "cell_type": "code",
   "execution_count": 214,
   "metadata": {},
   "outputs": [],
   "source": [
    "plt.rcParams[\"figure.figsize\"] = (30,10)"
   ]
  },
  {
   "cell_type": "markdown",
   "metadata": {},
   "source": [
    "### Android Tablet, ipad의 평균 나이가 높음"
   ]
  },
  {
   "cell_type": "code",
   "execution_count": 63,
   "metadata": {},
   "outputs": [],
   "source": [
    "plt.rcParams[\"figure.figsize\"] = (30,10)"
   ]
  },
  {
   "cell_type": "code",
   "execution_count": 64,
   "metadata": {},
   "outputs": [],
   "source": [
    "df_train = df_train[df_train['age']<100]"
   ]
  },
  {
   "cell_type": "code",
   "execution_count": 65,
   "metadata": {
    "scrolled": true
   },
   "outputs": [
    {
     "data": {
      "text/plain": [
       "<matplotlib.axes._subplots.AxesSubplot at 0x21c0d3ba9e8>"
      ]
     },
     "execution_count": 65,
     "metadata": {},
     "output_type": "execute_result"
    },
    {
     "data": {
      "image/png": "[encoded data removed]",
      "text/plain": [
       "<Figure size 2160x720 with 1 Axes>"
      ]
     },
     "metadata": {
      "needs_background": "light"
     },
     "output_type": "display_data"
    }
   ],
   "source": [
    "sns.boxplot(\"first_device_type\",\"age\",data =df_train)\n"
   ]
  },
  {
   "cell_type": "code",
   "execution_count": 234,
   "metadata": {},
   "outputs": [],
   "source": [
    "index = ['age']\n",
    "columns = ['Mac Desktop', 'Windows Desktop', 'iPhone', 'Other/Unknown',\n",
    "       'Desktop (Other)', 'Android Tablet', 'iPad', 'Android Phone',\n",
    "       'SmartPhone (Other)']\n",
    "df_age = pd.DataFrame(index=index,columns=columns)"
   ]
  },
  {
   "cell_type": "code",
   "execution_count": 237,
   "metadata": {},
   "outputs": [],
   "source": [
    "\n",
    "for x in ['Mac Desktop', 'Windows Desktop', 'iPhone', 'Other/Unknown',\n",
    "       'Desktop (Other)', 'Android Tablet', 'iPad', 'Android Phone',\n",
    "       'SmartPhone (Other)']:\n",
    "    df_age[x] = df_train[df_train['first_device_type']==x]['age'].mean()"
   ]
  },
  {
   "cell_type": "code",
   "execution_count": 238,
   "metadata": {
    "scrolled": false
   },
   "outputs": [
    {
     "data": {
      "text/html": [
       "<div>\n",
       "<style scoped>\n",
       "    .dataframe tbody tr th:only-of-type {\n",
       "        vertical-align: middle;\n",
       "    }\n",
       "\n",
       "    .dataframe tbody tr th {\n",
       "        vertical-align: top;\n",
       "    }\n",
       "\n",
       "    .dataframe thead th {\n",
       "        text-align: right;\n",
       "    }\n",
       "</style>\n",
       "<table border=\"1\" class=\"dataframe\">\n",
       "  <thead>\n",
       "    <tr style=\"text-align: right;\">\n",
       "      <th></th>\n",
       "      <th>Mac Desktop</th>\n",
       "      <th>Windows Desktop</th>\n",
       "      <th>iPhone</th>\n",
       "      <th>Other/Unknown</th>\n",
       "      <th>Desktop (Other)</th>\n",
       "      <th>Android Tablet</th>\n",
       "      <th>iPad</th>\n",
       "      <th>Android Phone</th>\n",
       "      <th>SmartPhone (Other)</th>\n",
       "    </tr>\n",
       "  </thead>\n",
       "  <tbody>\n",
       "    <tr>\n",
       "      <th>age</th>\n",
       "      <td>35.968816</td>\n",
       "      <td>37.681174</td>\n",
       "      <td>33.105379</td>\n",
       "      <td>35.91738</td>\n",
       "      <td>34.811321</td>\n",
       "      <td>39.214173</td>\n",
       "      <td>39.896579</td>\n",
       "      <td>34.193755</td>\n",
       "      <td>36.051282</td>\n",
       "    </tr>\n",
       "  </tbody>\n",
       "</table>\n",
       "</div>"
      ],
      "text/plain": [
       "     Mac Desktop  Windows Desktop     iPhone  Other/Unknown  Desktop (Other)  \\\n",
       "age    35.968816        37.681174  33.105379       35.91738        34.811321   \n",
       "\n",
       "     Android Tablet       iPad  Android Phone  SmartPhone (Other)  \n",
       "age       39.214173  39.896579      34.193755           36.051282  "
      ]
     },
     "execution_count": 238,
     "metadata": {},
     "output_type": "execute_result"
    }
   ],
   "source": [
    "df_age"
   ]
  },
  {
   "cell_type": "code",
   "execution_count": 66,
   "metadata": {},
   "outputs": [],
   "source": [
    "index = ['age']\n",
    "columns = ['Desktop', 'Mobile', 'Other/Unknown','Tablet']\n",
    "df_sum = pd.DataFrame(index=index, columns=columns)"
   ]
  },
  {
   "cell_type": "code",
   "execution_count": 67,
   "metadata": {},
   "outputs": [],
   "source": [
    "for x in ['Desktop', 'Mobile', 'Other/Unknown','Tablet']:\n",
    "    df_sum[x] = df_train[df_train['mobileordesktop']==x]['age'].mean()"
   ]
  },
  {
   "cell_type": "code",
   "execution_count": 68,
   "metadata": {},
   "outputs": [
    {
     "data": {
      "text/html": [
       "<div>\n",
       "<style scoped>\n",
       "    .dataframe tbody tr th:only-of-type {\n",
       "        vertical-align: middle;\n",
       "    }\n",
       "\n",
       "    .dataframe tbody tr th {\n",
       "        vertical-align: top;\n",
       "    }\n",
       "\n",
       "    .dataframe thead th {\n",
       "        text-align: right;\n",
       "    }\n",
       "</style>\n",
       "<table border=\"1\" class=\"dataframe\">\n",
       "  <thead>\n",
       "    <tr style=\"text-align: right;\">\n",
       "      <th></th>\n",
       "      <th>Desktop</th>\n",
       "      <th>Mobile</th>\n",
       "      <th>Other/Unknown</th>\n",
       "      <th>Tablet</th>\n",
       "    </tr>\n",
       "  </thead>\n",
       "  <tbody>\n",
       "    <tr>\n",
       "      <th>age</th>\n",
       "      <td>36.686853</td>\n",
       "      <td>33.324972</td>\n",
       "      <td>35.91738</td>\n",
       "      <td>39.843586</td>\n",
       "    </tr>\n",
       "  </tbody>\n",
       "</table>\n",
       "</div>"
      ],
      "text/plain": [
       "       Desktop     Mobile  Other/Unknown     Tablet\n",
       "age  36.686853  33.324972       35.91738  39.843586"
      ]
     },
     "execution_count": 68,
     "metadata": {},
     "output_type": "execute_result"
    }
   ],
   "source": [
    "df_sum"
   ]
  },
  {
   "cell_type": "markdown",
   "metadata": {},
   "source": [
    "# <끝>"
   ]
  },
  {
   "cell_type": "markdown",
   "metadata": {
    "colab_type": "text",
    "id": "t00Tl-v6xuvk"
   },
   "source": [
    "/////Ploting Start/////"
   ]
  }
 ],
 "metadata": {
  "accelerator": "GPU",
  "colab": {
   "collapsed_sections": [],
   "name": "Stacking.ipynb",
   "provenance": [],
   "version": "0.3.2"
  },
  "kernelspec": {
   "display_name": "Python 3",
   "language": "python",
   "name": "python3"
  },
  "language_info": {
   "codemirror_mode": {
    "name": "ipython",
    "version": 3
   },
   "file_extension": ".py",
   "mimetype": "text/x-python",
   "name": "python",
   "nbconvert_exporter": "python",
   "pygments_lexer": "ipython3",
   "version": "3.7.3"
  }
 },
 "nbformat": 4,
 "nbformat_minor": 1
}
